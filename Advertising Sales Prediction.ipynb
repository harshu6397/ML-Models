{
 "cells": [
  {
   "cell_type": "markdown",
   "id": "c610b013",
   "metadata": {
    "id": "c610b013"
   },
   "source": [
    "### Overview: \n",
    "\n",
    "The data set for this project has been taken from Kaggle. The data set is simple. This project aims at predicting avertising sales. I believe this problem statement is quite self-explanatory and doesn't need more explanation."
   ]
  },
  {
   "cell_type": "markdown",
   "id": "72b713ca",
   "metadata": {
    "id": "72b713ca"
   },
   "source": [
    "### Dataset:\n",
    "Advertising Dataset<br>\n",
    "https://www.kaggle.com/datasets/bumba5341/advertisingcsv"
   ]
  },
  {
   "cell_type": "markdown",
   "id": "a4655ecb",
   "metadata": {
    "id": "a4655ecb"
   },
   "source": [
    "## Step 01: Import all the required Libraries\n",
    "\n",
    "Let's load the necessary libraries and data and start coding."
   ]
  },
  {
   "cell_type": "markdown",
   "id": "2dddf59c",
   "metadata": {
    "id": "2dddf59c"
   },
   "source": [
    "- <strong>NumPy</strong> : stands for Numerical Python, is a library consisting of multidimensional array objects and a collection of routines for processing those arrays. Using NumPy, mathematical and logical operations on arrays can be performed.\n",
    "- <strong>Pandas</strong> : In computer programming, pandas is a software library written for the Python programming language for data manipulation and analysis and storing in a proper way. In particular, it offers data structures and operations for manipulating numerical tables and time series\n",
    "- <strong>Sklearn</strong> : Scikit-learn (formerly scikits.learn) is a free software machine learning library for the Python programming language. It features various classification, regression and clustering algorithms including support vector machines, random forests, gradient boosting, k-means and DBSCAN, and is designed to interoperate with the Python numerical and scientific libraries NumPy and SciPy. The library is built upon the SciPy (Scientific Python) that must be installed before you can use scikit-learn.\n",
    "- <strong>Pickle</strong> : Python pickle module is used for serializing and de-serializing a Python object structure. Pickling is a way to convert a python object (list, dict, etc.) into a character stream. The idea is that this character stream contains all the information necessary to reconstruct the object in another python script.\n",
    "- <strong>Matplotlib</strong> : Matplotlib is a comprehensive library for creating static, animated, and interactive visualizations in Python. Matplotlib makes easy things easy and hard things possible.\n",
    "- <strong>Seaborn</strong> : Seaborn is a Python data visualization library based on matplotlib. It provides a high-level interface for drawing attractive and informative statistical graphics."
   ]
  },
  {
   "cell_type": "code",
   "execution_count": 1,
   "id": "98972d12",
   "metadata": {
    "colab": {
     "base_uri": "https://localhost:8080/"
    },
    "executionInfo": {
     "elapsed": 1520,
     "status": "ok",
     "timestamp": 1649428825321,
     "user": {
      "displayName": "Harsh Kumar",
      "userId": "02225357421166406900"
     },
     "user_tz": -330
    },
    "id": "98972d12",
    "outputId": "393e2a85-7726-41c5-cd92-f80ca00f04ce"
   },
   "outputs": [],
   "source": [
    "# Importing Dependencies\n",
    "import numpy as np\n",
    "import pandas as pd\n",
    "import matplotlib.pyplot as plt\n",
    "import seaborn as sns\n",
    "%matplotlib inline\n",
    "import pickle\n",
    "import sklearn\n",
    "from sklearn.model_selection import train_test_split\n",
    "from sklearn.linear_model import LinearRegression\n",
    "from statsmodels.stats.outliers_influence import variance_inflation_factor\n",
    "import warnings\n",
    "warnings.filterwarnings('ignore')"
   ]
  },
  {
   "cell_type": "markdown",
   "id": "698f9055",
   "metadata": {
    "id": "698f9055"
   },
   "source": [
    "## Step 02: Read all the required Data\n",
    "In this stage we are going to read our problem dataset and have a look on it."
   ]
  },
  {
   "cell_type": "code",
   "execution_count": 2,
   "id": "b51a7f30",
   "metadata": {
    "colab": {
     "base_uri": "https://localhost:8080/"
    },
    "executionInfo": {
     "elapsed": 56,
     "status": "ok",
     "timestamp": 1649428825331,
     "user": {
      "displayName": "Harsh Kumar",
      "userId": "02225357421166406900"
     },
     "user_tz": -330
    },
    "id": "b51a7f30",
    "outputId": "32e1a0e1-d209-4449-8d97-8dd26bd9c718"
   },
   "outputs": [
    {
     "name": "stdout",
     "output_type": "stream",
     "text": [
      "Data Reading Done Successfully....\n"
     ]
    }
   ],
   "source": [
    "# Loading the data in pandas dataframe\n",
    "try: \n",
    "    dataset = pd.read_csv('Data\\Advertising_Data.csv', index_col='Unnamed: 0')\n",
    "    print(\"Data Reading Done Successfully....\")\n",
    "    \n",
    "except (FileNotFoundError, IOError):\n",
    "    print(\"Wrong File or File path\")"
   ]
  },
  {
   "cell_type": "markdown",
   "id": "ecdbdfbf",
   "metadata": {
    "id": "ecdbdfbf"
   },
   "source": [
    "After we read the data, we can look at the data using:"
   ]
  },
  {
   "cell_type": "code",
   "execution_count": 3,
   "id": "cd569a06",
   "metadata": {
    "colab": {
     "base_uri": "https://localhost:8080/",
     "height": 206
    },
    "executionInfo": {
     "elapsed": 51,
     "status": "ok",
     "timestamp": 1649428825334,
     "user": {
      "displayName": "Harsh Kumar",
      "userId": "02225357421166406900"
     },
     "user_tz": -330
    },
    "id": "cd569a06",
    "outputId": "aac6a206-8f93-4d01-ac02-e5fac2675b44"
   },
   "outputs": [
    {
     "data": {
      "text/html": [
       "<div>\n",
       "<style scoped>\n",
       "    .dataframe tbody tr th:only-of-type {\n",
       "        vertical-align: middle;\n",
       "    }\n",
       "\n",
       "    .dataframe tbody tr th {\n",
       "        vertical-align: top;\n",
       "    }\n",
       "\n",
       "    .dataframe thead th {\n",
       "        text-align: right;\n",
       "    }\n",
       "</style>\n",
       "<table border=\"1\" class=\"dataframe\">\n",
       "  <thead>\n",
       "    <tr style=\"text-align: right;\">\n",
       "      <th></th>\n",
       "      <th>TV</th>\n",
       "      <th>Radio</th>\n",
       "      <th>Newspaper</th>\n",
       "      <th>Sales</th>\n",
       "    </tr>\n",
       "  </thead>\n",
       "  <tbody>\n",
       "    <tr>\n",
       "      <th>1</th>\n",
       "      <td>230.1</td>\n",
       "      <td>37.8</td>\n",
       "      <td>69.2</td>\n",
       "      <td>22.1</td>\n",
       "    </tr>\n",
       "    <tr>\n",
       "      <th>2</th>\n",
       "      <td>44.5</td>\n",
       "      <td>39.3</td>\n",
       "      <td>45.1</td>\n",
       "      <td>10.4</td>\n",
       "    </tr>\n",
       "    <tr>\n",
       "      <th>3</th>\n",
       "      <td>17.2</td>\n",
       "      <td>45.9</td>\n",
       "      <td>69.3</td>\n",
       "      <td>9.3</td>\n",
       "    </tr>\n",
       "    <tr>\n",
       "      <th>4</th>\n",
       "      <td>151.5</td>\n",
       "      <td>41.3</td>\n",
       "      <td>58.5</td>\n",
       "      <td>18.5</td>\n",
       "    </tr>\n",
       "    <tr>\n",
       "      <th>5</th>\n",
       "      <td>180.8</td>\n",
       "      <td>10.8</td>\n",
       "      <td>58.4</td>\n",
       "      <td>12.9</td>\n",
       "    </tr>\n",
       "  </tbody>\n",
       "</table>\n",
       "</div>"
      ],
      "text/plain": [
       "      TV  Radio  Newspaper  Sales\n",
       "1  230.1   37.8       69.2   22.1\n",
       "2   44.5   39.3       45.1   10.4\n",
       "3   17.2   45.9       69.3    9.3\n",
       "4  151.5   41.3       58.5   18.5\n",
       "5  180.8   10.8       58.4   12.9"
      ]
     },
     "execution_count": 3,
     "metadata": {},
     "output_type": "execute_result"
    }
   ],
   "source": [
    "dataset.head()"
   ]
  },
  {
   "cell_type": "code",
   "execution_count": 4,
   "id": "19f70768",
   "metadata": {
    "colab": {
     "base_uri": "https://localhost:8080/",
     "height": 206
    },
    "executionInfo": {
     "elapsed": 47,
     "status": "ok",
     "timestamp": 1649428825335,
     "user": {
      "displayName": "Harsh Kumar",
      "userId": "02225357421166406900"
     },
     "user_tz": -330
    },
    "id": "19f70768",
    "outputId": "4a6f6448-ff9b-4f0d-e802-25bd54a75020"
   },
   "outputs": [
    {
     "data": {
      "text/html": [
       "<div>\n",
       "<style scoped>\n",
       "    .dataframe tbody tr th:only-of-type {\n",
       "        vertical-align: middle;\n",
       "    }\n",
       "\n",
       "    .dataframe tbody tr th {\n",
       "        vertical-align: top;\n",
       "    }\n",
       "\n",
       "    .dataframe thead th {\n",
       "        text-align: right;\n",
       "    }\n",
       "</style>\n",
       "<table border=\"1\" class=\"dataframe\">\n",
       "  <thead>\n",
       "    <tr style=\"text-align: right;\">\n",
       "      <th></th>\n",
       "      <th>TV</th>\n",
       "      <th>Radio</th>\n",
       "      <th>Newspaper</th>\n",
       "      <th>Sales</th>\n",
       "    </tr>\n",
       "  </thead>\n",
       "  <tbody>\n",
       "    <tr>\n",
       "      <th>196</th>\n",
       "      <td>38.2</td>\n",
       "      <td>3.7</td>\n",
       "      <td>13.8</td>\n",
       "      <td>7.6</td>\n",
       "    </tr>\n",
       "    <tr>\n",
       "      <th>197</th>\n",
       "      <td>94.2</td>\n",
       "      <td>4.9</td>\n",
       "      <td>8.1</td>\n",
       "      <td>9.7</td>\n",
       "    </tr>\n",
       "    <tr>\n",
       "      <th>198</th>\n",
       "      <td>177.0</td>\n",
       "      <td>9.3</td>\n",
       "      <td>6.4</td>\n",
       "      <td>12.8</td>\n",
       "    </tr>\n",
       "    <tr>\n",
       "      <th>199</th>\n",
       "      <td>283.6</td>\n",
       "      <td>42.0</td>\n",
       "      <td>66.2</td>\n",
       "      <td>25.5</td>\n",
       "    </tr>\n",
       "    <tr>\n",
       "      <th>200</th>\n",
       "      <td>232.1</td>\n",
       "      <td>8.6</td>\n",
       "      <td>8.7</td>\n",
       "      <td>13.4</td>\n",
       "    </tr>\n",
       "  </tbody>\n",
       "</table>\n",
       "</div>"
      ],
      "text/plain": [
       "        TV  Radio  Newspaper  Sales\n",
       "196   38.2    3.7       13.8    7.6\n",
       "197   94.2    4.9        8.1    9.7\n",
       "198  177.0    9.3        6.4   12.8\n",
       "199  283.6   42.0       66.2   25.5\n",
       "200  232.1    8.6        8.7   13.4"
      ]
     },
     "execution_count": 4,
     "metadata": {},
     "output_type": "execute_result"
    }
   ],
   "source": [
    "dataset.tail()"
   ]
  },
  {
   "cell_type": "markdown",
   "id": "34600013",
   "metadata": {
    "id": "34600013"
   },
   "source": [
    "## Step 03: Data Exploration\n",
    "\n",
    "Now we explore the data using different techniques.."
   ]
  },
  {
   "cell_type": "code",
   "execution_count": 5,
   "id": "6b306551",
   "metadata": {
    "colab": {
     "base_uri": "https://localhost:8080/"
    },
    "executionInfo": {
     "elapsed": 45,
     "status": "ok",
     "timestamp": 1649428825336,
     "user": {
      "displayName": "Harsh Kumar",
      "userId": "02225357421166406900"
     },
     "user_tz": -330
    },
    "id": "6b306551",
    "outputId": "f8ac41dd-7732-405f-fc7d-d6fbc97bf750"
   },
   "outputs": [
    {
     "name": "stdout",
     "output_type": "stream",
     "text": [
      "The train data has 200 rows and 4 columns\n"
     ]
    }
   ],
   "source": [
    "# Checking the rows and columns of the dataset\n",
    "print (f'The train data has {dataset.shape[0]} rows and {dataset.shape[1]} columns')"
   ]
  },
  {
   "cell_type": "code",
   "execution_count": 6,
   "id": "38c92136",
   "metadata": {
    "colab": {
     "base_uri": "https://localhost:8080/"
    },
    "executionInfo": {
     "elapsed": 1375,
     "status": "ok",
     "timestamp": 1649428826670,
     "user": {
      "displayName": "Harsh Kumar",
      "userId": "02225357421166406900"
     },
     "user_tz": -330
    },
    "id": "38c92136",
    "outputId": "d2bc9a5e-597c-45e6-8541-49b2cc59c6b5"
   },
   "outputs": [
    {
     "name": "stdout",
     "output_type": "stream",
     "text": [
      "<class 'pandas.core.frame.DataFrame'>\n",
      "Int64Index: 200 entries, 1 to 200\n",
      "Data columns (total 4 columns):\n",
      " #   Column     Non-Null Count  Dtype  \n",
      "---  ------     --------------  -----  \n",
      " 0   TV         200 non-null    float64\n",
      " 1   Radio      200 non-null    float64\n",
      " 2   Newspaper  200 non-null    float64\n",
      " 3   Sales      200 non-null    float64\n",
      "dtypes: float64(4)\n",
      "memory usage: 7.8 KB\n"
     ]
    }
   ],
   "source": [
    "# Getting more insights of the data using .info() method\n",
    "dataset.info()"
   ]
  },
  {
   "cell_type": "markdown",
   "id": "174eb967",
   "metadata": {
    "id": "174eb967"
   },
   "source": [
    "All the columns are float type"
   ]
  },
  {
   "cell_type": "code",
   "execution_count": 7,
   "id": "c652b471",
   "metadata": {
    "colab": {
     "base_uri": "https://localhost:8080/",
     "height": 300
    },
    "executionInfo": {
     "elapsed": 121,
     "status": "ok",
     "timestamp": 1649428826671,
     "user": {
      "displayName": "Harsh Kumar",
      "userId": "02225357421166406900"
     },
     "user_tz": -330
    },
    "id": "c652b471",
    "outputId": "bb3b25b0-87c2-45bb-cc84-581f9504ec25",
    "scrolled": true
   },
   "outputs": [
    {
     "data": {
      "text/html": [
       "<div>\n",
       "<style scoped>\n",
       "    .dataframe tbody tr th:only-of-type {\n",
       "        vertical-align: middle;\n",
       "    }\n",
       "\n",
       "    .dataframe tbody tr th {\n",
       "        vertical-align: top;\n",
       "    }\n",
       "\n",
       "    .dataframe thead th {\n",
       "        text-align: right;\n",
       "    }\n",
       "</style>\n",
       "<table border=\"1\" class=\"dataframe\">\n",
       "  <thead>\n",
       "    <tr style=\"text-align: right;\">\n",
       "      <th></th>\n",
       "      <th>TV</th>\n",
       "      <th>Radio</th>\n",
       "      <th>Newspaper</th>\n",
       "      <th>Sales</th>\n",
       "    </tr>\n",
       "  </thead>\n",
       "  <tbody>\n",
       "    <tr>\n",
       "      <th>count</th>\n",
       "      <td>200.000000</td>\n",
       "      <td>200.000000</td>\n",
       "      <td>200.000000</td>\n",
       "      <td>200.000000</td>\n",
       "    </tr>\n",
       "    <tr>\n",
       "      <th>mean</th>\n",
       "      <td>147.042500</td>\n",
       "      <td>23.264000</td>\n",
       "      <td>30.554000</td>\n",
       "      <td>14.022500</td>\n",
       "    </tr>\n",
       "    <tr>\n",
       "      <th>std</th>\n",
       "      <td>85.854236</td>\n",
       "      <td>14.846809</td>\n",
       "      <td>21.778621</td>\n",
       "      <td>5.217457</td>\n",
       "    </tr>\n",
       "    <tr>\n",
       "      <th>min</th>\n",
       "      <td>0.700000</td>\n",
       "      <td>0.000000</td>\n",
       "      <td>0.300000</td>\n",
       "      <td>1.600000</td>\n",
       "    </tr>\n",
       "    <tr>\n",
       "      <th>25%</th>\n",
       "      <td>74.375000</td>\n",
       "      <td>9.975000</td>\n",
       "      <td>12.750000</td>\n",
       "      <td>10.375000</td>\n",
       "    </tr>\n",
       "    <tr>\n",
       "      <th>50%</th>\n",
       "      <td>149.750000</td>\n",
       "      <td>22.900000</td>\n",
       "      <td>25.750000</td>\n",
       "      <td>12.900000</td>\n",
       "    </tr>\n",
       "    <tr>\n",
       "      <th>75%</th>\n",
       "      <td>218.825000</td>\n",
       "      <td>36.525000</td>\n",
       "      <td>45.100000</td>\n",
       "      <td>17.400000</td>\n",
       "    </tr>\n",
       "    <tr>\n",
       "      <th>max</th>\n",
       "      <td>296.400000</td>\n",
       "      <td>49.600000</td>\n",
       "      <td>114.000000</td>\n",
       "      <td>27.000000</td>\n",
       "    </tr>\n",
       "  </tbody>\n",
       "</table>\n",
       "</div>"
      ],
      "text/plain": [
       "               TV       Radio   Newspaper       Sales\n",
       "count  200.000000  200.000000  200.000000  200.000000\n",
       "mean   147.042500   23.264000   30.554000   14.022500\n",
       "std     85.854236   14.846809   21.778621    5.217457\n",
       "min      0.700000    0.000000    0.300000    1.600000\n",
       "25%     74.375000    9.975000   12.750000   10.375000\n",
       "50%    149.750000   22.900000   25.750000   12.900000\n",
       "75%    218.825000   36.525000   45.100000   17.400000\n",
       "max    296.400000   49.600000  114.000000   27.000000"
      ]
     },
     "execution_count": 7,
     "metadata": {},
     "output_type": "execute_result"
    }
   ],
   "source": [
    "# Statistic of the dataset\n",
    "dataset.describe()"
   ]
  },
  {
   "cell_type": "markdown",
   "id": "2f711b44",
   "metadata": {
    "id": "2f711b44"
   },
   "source": [
    "#### Let's check if the data set has any missing values."
   ]
  },
  {
   "cell_type": "code",
   "execution_count": 8,
   "id": "3ed6f3e7",
   "metadata": {
    "colab": {
     "base_uri": "https://localhost:8080/"
    },
    "executionInfo": {
     "elapsed": 101,
     "status": "ok",
     "timestamp": 1649428826673,
     "user": {
      "displayName": "Harsh Kumar",
      "userId": "02225357421166406900"
     },
     "user_tz": -330
    },
    "id": "3ed6f3e7",
    "outputId": "512ea51e-6d59-4e7f-c51b-4b9c23a41098",
    "scrolled": true
   },
   "outputs": [
    {
     "data": {
      "text/plain": [
       "TV           0\n",
       "Radio        0\n",
       "Newspaper    0\n",
       "Sales        0\n",
       "dtype: int64"
      ]
     },
     "execution_count": 8,
     "metadata": {},
     "output_type": "execute_result"
    }
   ],
   "source": [
    "# Chcek Missing values\n",
    "dataset.isnull().sum()"
   ]
  },
  {
   "cell_type": "markdown",
   "id": "74e10d44",
   "metadata": {
    "id": "74e10d44"
   },
   "source": [
    "As we can see there is no missing value present"
   ]
  },
  {
   "cell_type": "markdown",
   "id": "ca0adf33",
   "metadata": {
    "id": "ca0adf33"
   },
   "source": [
    "#### Now let's chcek the distribution of the target varibale"
   ]
  },
  {
   "cell_type": "code",
   "execution_count": 9,
   "id": "c13b2198",
   "metadata": {
    "colab": {
     "base_uri": "https://localhost:8080/",
     "height": 296
    },
    "executionInfo": {
     "elapsed": 79,
     "status": "ok",
     "timestamp": 1649428826676,
     "user": {
      "displayName": "Harsh Kumar",
      "userId": "02225357421166406900"
     },
     "user_tz": -330
    },
    "id": "c13b2198",
    "outputId": "74861d75-dad0-41e2-8ead-753fc7554148"
   },
   "outputs": [
    {
     "data": {
      "text/plain": [
       "<AxesSubplot:xlabel='Sales', ylabel='Density'>"
      ]
     },
     "execution_count": 9,
     "metadata": {},
     "output_type": "execute_result"
    },
    {
     "data": {
      "image/png": "[encoded data removed]",
      "text/plain": [
       "<Figure size 432x288 with 1 Axes>"
      ]
     },
     "metadata": {
      "needs_background": "light"
     },
     "output_type": "display_data"
    }
   ],
   "source": [
    "sns.distplot(dataset['Sales'])"
   ]
  },
  {
   "cell_type": "markdown",
   "id": "d7bdf22e",
   "metadata": {
    "id": "d7bdf22e"
   },
   "source": [
    "We see that the target variable Sales has a no skewed distribution. This is not always our case for target varibale sometime it happens we have right or left skewed distribution. In that case we'll need to log transform (other tranforms) this variable so that it becomes normally distributed. A normally distributed (or close to normal) target variable helps in better modeling the relationship between target and independent variables. In addition, linear algorithms assume constant variance in the error term. Alternatively, we can also confirm this skewed behavior using the skewness metric."
   ]
  },
  {
   "cell_type": "code",
   "execution_count": 10,
   "id": "16c6ff38",
   "metadata": {
    "colab": {
     "base_uri": "https://localhost:8080/",
     "height": 175
    },
    "executionInfo": {
     "elapsed": 69,
     "status": "ok",
     "timestamp": 1649428826677,
     "user": {
      "displayName": "Harsh Kumar",
      "userId": "02225357421166406900"
     },
     "user_tz": -330
    },
    "id": "16c6ff38",
    "outputId": "be013923-0fc5-4197-c78b-8deab4b6614e"
   },
   "outputs": [
    {
     "data": {
      "text/html": [
       "<div>\n",
       "<style scoped>\n",
       "    .dataframe tbody tr th:only-of-type {\n",
       "        vertical-align: middle;\n",
       "    }\n",
       "\n",
       "    .dataframe tbody tr th {\n",
       "        vertical-align: top;\n",
       "    }\n",
       "\n",
       "    .dataframe thead th {\n",
       "        text-align: right;\n",
       "    }\n",
       "</style>\n",
       "<table border=\"1\" class=\"dataframe\">\n",
       "  <thead>\n",
       "    <tr style=\"text-align: right;\">\n",
       "      <th></th>\n",
       "      <th>TV</th>\n",
       "      <th>Radio</th>\n",
       "      <th>Newspaper</th>\n",
       "      <th>Sales</th>\n",
       "    </tr>\n",
       "  </thead>\n",
       "  <tbody>\n",
       "    <tr>\n",
       "      <th>TV</th>\n",
       "      <td>1.000000</td>\n",
       "      <td>0.054809</td>\n",
       "      <td>0.056648</td>\n",
       "      <td>0.782224</td>\n",
       "    </tr>\n",
       "    <tr>\n",
       "      <th>Radio</th>\n",
       "      <td>0.054809</td>\n",
       "      <td>1.000000</td>\n",
       "      <td>0.354104</td>\n",
       "      <td>0.576223</td>\n",
       "    </tr>\n",
       "    <tr>\n",
       "      <th>Newspaper</th>\n",
       "      <td>0.056648</td>\n",
       "      <td>0.354104</td>\n",
       "      <td>1.000000</td>\n",
       "      <td>0.228299</td>\n",
       "    </tr>\n",
       "    <tr>\n",
       "      <th>Sales</th>\n",
       "      <td>0.782224</td>\n",
       "      <td>0.576223</td>\n",
       "      <td>0.228299</td>\n",
       "      <td>1.000000</td>\n",
       "    </tr>\n",
       "  </tbody>\n",
       "</table>\n",
       "</div>"
      ],
      "text/plain": [
       "                 TV     Radio  Newspaper     Sales\n",
       "TV         1.000000  0.054809   0.056648  0.782224\n",
       "Radio      0.054809  1.000000   0.354104  0.576223\n",
       "Newspaper  0.056648  0.354104   1.000000  0.228299\n",
       "Sales      0.782224  0.576223   0.228299  1.000000"
      ]
     },
     "execution_count": 10,
     "metadata": {},
     "output_type": "execute_result"
    }
   ],
   "source": [
    "# Checking for Correlation\n",
    "corr = dataset.corr()\n",
    "corr"
   ]
  },
  {
   "cell_type": "code",
   "execution_count": 11,
   "id": "9797fd5e",
   "metadata": {
    "colab": {
     "base_uri": "https://localhost:8080/",
     "height": 286
    },
    "executionInfo": {
     "elapsed": 67,
     "status": "ok",
     "timestamp": 1649428826682,
     "user": {
      "displayName": "Harsh Kumar",
      "userId": "02225357421166406900"
     },
     "user_tz": -330
    },
    "id": "9797fd5e",
    "outputId": "93d31363-9c64-4840-fd26-091f5cbe398c"
   },
   "outputs": [
    {
     "data": {
      "text/plain": [
       "<AxesSubplot:>"
      ]
     },
     "execution_count": 11,
     "metadata": {},
     "output_type": "execute_result"
    },
    {
     "data": {
      "image/png": "[encoded data removed]",
      "text/plain": [
       "<Figure size 432x288 with 2 Axes>"
      ]
     },
     "metadata": {
      "needs_background": "light"
     },
     "output_type": "display_data"
    }
   ],
   "source": [
    "#correlation plot using heatmap\n",
    "sns.heatmap(corr, annot=True, cmap='viridis')"
   ]
  },
  {
   "cell_type": "markdown",
   "id": "cc7d040d",
   "metadata": {
    "id": "cc7d040d"
   },
   "source": [
    "Notice the last row of this map. We can see the correlation of all variables against Sales. As you can see, some variables seem to be strongly correlated with the target variable."
   ]
  },
  {
   "cell_type": "code",
   "execution_count": 12,
   "id": "01f3621d",
   "metadata": {
    "colab": {
     "base_uri": "https://localhost:8080/",
     "height": 606
    },
    "executionInfo": {
     "elapsed": 2123,
     "status": "ok",
     "timestamp": 1649428828751,
     "user": {
      "displayName": "Harsh Kumar",
      "userId": "02225357421166406900"
     },
     "user_tz": -330
    },
    "id": "01f3621d",
    "outputId": "9ed9c09c-4830-44bf-ef03-d076dd3cce1b"
   },
   "outputs": [
    {
     "data": {
      "image/png": "[encoded data removed]",
      "text/plain": [
       "<Figure size 1080x720 with 4 Axes>"
      ]
     },
     "metadata": {
      "needs_background": "light"
     },
     "output_type": "display_data"
    }
   ],
   "source": [
    "# Checking the distribution of all the variable against target varuable\n",
    "fig, axis = plt.subplots(nrows=2, ncols=2, figsize=(15,10))\n",
    "count = 0\n",
    "for i in range(2):\n",
    "    for j in range(2):\n",
    "        sns.regplot(x=dataset.columns[count], y=dataset.columns[-1], data=dataset, ax=axis[i,j])\n",
    "        count += 1"
   ]
  },
  {
   "cell_type": "markdown",
   "id": "3406d784",
   "metadata": {
    "id": "3406d784"
   },
   "source": [
    "We can see that most of the features have a linear relationship with the Sales target feature"
   ]
  },
  {
   "cell_type": "code",
   "execution_count": 13,
   "id": "abb83d9b",
   "metadata": {
    "colab": {
     "base_uri": "https://localhost:8080/",
     "height": 606
    },
    "executionInfo": {
     "elapsed": 1101,
     "status": "ok",
     "timestamp": 1649428829838,
     "user": {
      "displayName": "Harsh Kumar",
      "userId": "02225357421166406900"
     },
     "user_tz": -330
    },
    "id": "abb83d9b",
    "outputId": "a308e000-e300-4d17-985d-f1e7e30c8093"
   },
   "outputs": [
    {
     "data": {
      "image/png": "[encoded data removed]",
      "text/plain": [
       "<Figure size 1080x720 with 4 Axes>"
      ]
     },
     "metadata": {
      "needs_background": "light"
     },
     "output_type": "display_data"
    }
   ],
   "source": [
    "# Checking for outliers\n",
    "fig, axis = plt.subplots(nrows=2, ncols=2, figsize=(15,10))\n",
    "count = 0\n",
    "for i in range(2):\n",
    "    for j in range(2):\n",
    "        sns.boxplot(x=dataset.columns[count], data=dataset, ax=axis[i,j])\n",
    "        count += 1"
   ]
  },
  {
   "cell_type": "markdown",
   "id": "5759580f",
   "metadata": {
    "id": "5759580f"
   },
   "source": [
    "Here there is only outliers present in the newspaper feature"
   ]
  },
  {
   "cell_type": "markdown",
   "id": "443a7b8d",
   "metadata": {
    "id": "443a7b8d"
   },
   "source": [
    "## Step 04: Data Pre-Processing\n",
    "\n",
    "In this step, we handle the outliers.."
   ]
  },
  {
   "cell_type": "code",
   "execution_count": 14,
   "id": "8c5e717d",
   "metadata": {
    "executionInfo": {
     "elapsed": 138,
     "status": "ok",
     "timestamp": 1649428829840,
     "user": {
      "displayName": "Harsh Kumar",
      "userId": "02225357421166406900"
     },
     "user_tz": -330
    },
    "id": "8c5e717d"
   },
   "outputs": [],
   "source": [
    "# Detecting the Outliers\n",
    "outliers = []\n",
    "\n",
    "def detect_outlier(data):\n",
    "    threshold = 3\n",
    "    mean = np.mean(data)\n",
    "    std = np.std(data)\n",
    "    \n",
    "    for i in data:\n",
    "        z_score = (i-mean)/std\n",
    "        if np.abs(z_score) > threshold:\n",
    "            outliers.append(i)\n",
    "    return outliers"
   ]
  },
  {
   "cell_type": "code",
   "execution_count": 15,
   "id": "fd1da7cd",
   "metadata": {
    "colab": {
     "base_uri": "https://localhost:8080/"
    },
    "executionInfo": {
     "elapsed": 136,
     "status": "ok",
     "timestamp": 1649428829841,
     "user": {
      "displayName": "Harsh Kumar",
      "userId": "02225357421166406900"
     },
     "user_tz": -330
    },
    "id": "fd1da7cd",
    "outputId": "5b62b2e2-5b35-4265-f800-b73a2163ca93"
   },
   "outputs": [
    {
     "data": {
      "text/plain": [
       "[114.0, 100.9]"
      ]
     },
     "execution_count": 15,
     "metadata": {},
     "output_type": "execute_result"
    }
   ],
   "source": [
    "detect_outlier(dataset.Newspaper)"
   ]
  },
  {
   "cell_type": "code",
   "execution_count": 16,
   "id": "2342f151",
   "metadata": {
    "executionInfo": {
     "elapsed": 125,
     "status": "ok",
     "timestamp": 1649428829842,
     "user": {
      "displayName": "Harsh Kumar",
      "userId": "02225357421166406900"
     },
     "user_tz": -330
    },
    "id": "2342f151"
   },
   "outputs": [],
   "source": [
    "# Removing outliers\n",
    "upper_limit = dataset.Newspaper.mean() + 3*dataset.Newspaper.std()\n",
    "dataset.Newspaper[dataset.Newspaper > upper_limit] = dataset.Newspaper.mean()"
   ]
  },
  {
   "cell_type": "code",
   "execution_count": 17,
   "id": "4e09010a",
   "metadata": {
    "colab": {
     "base_uri": "https://localhost:8080/",
     "height": 296
    },
    "executionInfo": {
     "elapsed": 124,
     "status": "ok",
     "timestamp": 1649428829845,
     "user": {
      "displayName": "Harsh Kumar",
      "userId": "02225357421166406900"
     },
     "user_tz": -330
    },
    "id": "4e09010a",
    "outputId": "ec6a5090-50a7-4c79-9e48-541843196568"
   },
   "outputs": [
    {
     "data": {
      "text/plain": [
       "<AxesSubplot:xlabel='Newspaper'>"
      ]
     },
     "execution_count": 17,
     "metadata": {},
     "output_type": "execute_result"
    },
    {
     "data": {
      "image/png": "[encoded data removed]",
      "text/plain": [
       "<Figure size 432x288 with 1 Axes>"
      ]
     },
     "metadata": {
      "needs_background": "light"
     },
     "output_type": "display_data"
    }
   ],
   "source": [
    "sns.boxplot(x=dataset.Newspaper)"
   ]
  },
  {
   "cell_type": "markdown",
   "id": "20da1417",
   "metadata": {
    "id": "20da1417"
   },
   "source": [
    "Hence there is no outlier present in the Newspaper feature"
   ]
  },
  {
   "cell_type": "code",
   "execution_count": 18,
   "id": "f4664ea8",
   "metadata": {
    "executionInfo": {
     "elapsed": 99,
     "status": "ok",
     "timestamp": 1649428829847,
     "user": {
      "displayName": "Harsh Kumar",
      "userId": "02225357421166406900"
     },
     "user_tz": -330
    },
    "id": "f4664ea8"
   },
   "outputs": [],
   "source": [
    "# Separate the other features and the target fetaures\n",
    "X = dataset[dataset.columns[:-1]]"
   ]
  },
  {
   "cell_type": "code",
   "execution_count": 19,
   "id": "ddd9cd4f",
   "metadata": {
    "colab": {
     "base_uri": "https://localhost:8080/",
     "height": 206
    },
    "executionInfo": {
     "elapsed": 98,
     "status": "ok",
     "timestamp": 1649428829849,
     "user": {
      "displayName": "Harsh Kumar",
      "userId": "02225357421166406900"
     },
     "user_tz": -330
    },
    "id": "ddd9cd4f",
    "outputId": "18cae520-dc38-4674-f5bb-38d932be6bb0"
   },
   "outputs": [
    {
     "data": {
      "text/html": [
       "<div>\n",
       "<style scoped>\n",
       "    .dataframe tbody tr th:only-of-type {\n",
       "        vertical-align: middle;\n",
       "    }\n",
       "\n",
       "    .dataframe tbody tr th {\n",
       "        vertical-align: top;\n",
       "    }\n",
       "\n",
       "    .dataframe thead th {\n",
       "        text-align: right;\n",
       "    }\n",
       "</style>\n",
       "<table border=\"1\" class=\"dataframe\">\n",
       "  <thead>\n",
       "    <tr style=\"text-align: right;\">\n",
       "      <th></th>\n",
       "      <th>TV</th>\n",
       "      <th>Radio</th>\n",
       "      <th>Newspaper</th>\n",
       "    </tr>\n",
       "  </thead>\n",
       "  <tbody>\n",
       "    <tr>\n",
       "      <th>1</th>\n",
       "      <td>230.1</td>\n",
       "      <td>37.8</td>\n",
       "      <td>69.2</td>\n",
       "    </tr>\n",
       "    <tr>\n",
       "      <th>2</th>\n",
       "      <td>44.5</td>\n",
       "      <td>39.3</td>\n",
       "      <td>45.1</td>\n",
       "    </tr>\n",
       "    <tr>\n",
       "      <th>3</th>\n",
       "      <td>17.2</td>\n",
       "      <td>45.9</td>\n",
       "      <td>69.3</td>\n",
       "    </tr>\n",
       "    <tr>\n",
       "      <th>4</th>\n",
       "      <td>151.5</td>\n",
       "      <td>41.3</td>\n",
       "      <td>58.5</td>\n",
       "    </tr>\n",
       "    <tr>\n",
       "      <th>5</th>\n",
       "      <td>180.8</td>\n",
       "      <td>10.8</td>\n",
       "      <td>58.4</td>\n",
       "    </tr>\n",
       "  </tbody>\n",
       "</table>\n",
       "</div>"
      ],
      "text/plain": [
       "      TV  Radio  Newspaper\n",
       "1  230.1   37.8       69.2\n",
       "2   44.5   39.3       45.1\n",
       "3   17.2   45.9       69.3\n",
       "4  151.5   41.3       58.5\n",
       "5  180.8   10.8       58.4"
      ]
     },
     "execution_count": 19,
     "metadata": {},
     "output_type": "execute_result"
    }
   ],
   "source": [
    "X.head()"
   ]
  },
  {
   "cell_type": "code",
   "execution_count": 20,
   "id": "34039378",
   "metadata": {
    "executionInfo": {
     "elapsed": 93,
     "status": "ok",
     "timestamp": 1649428829850,
     "user": {
      "displayName": "Harsh Kumar",
      "userId": "02225357421166406900"
     },
     "user_tz": -330
    },
    "id": "34039378"
   },
   "outputs": [],
   "source": [
    "y = dataset[dataset.columns[-1]]"
   ]
  },
  {
   "cell_type": "code",
   "execution_count": 21,
   "id": "1ec2b049",
   "metadata": {
    "colab": {
     "base_uri": "https://localhost:8080/"
    },
    "executionInfo": {
     "elapsed": 92,
     "status": "ok",
     "timestamp": 1649428829851,
     "user": {
      "displayName": "Harsh Kumar",
      "userId": "02225357421166406900"
     },
     "user_tz": -330
    },
    "id": "1ec2b049",
    "outputId": "6fcb07a3-40dd-4187-f25a-1827827c9716"
   },
   "outputs": [
    {
     "data": {
      "text/plain": [
       "1      22.1\n",
       "2      10.4\n",
       "3       9.3\n",
       "4      18.5\n",
       "5      12.9\n",
       "       ... \n",
       "196     7.6\n",
       "197     9.7\n",
       "198    12.8\n",
       "199    25.5\n",
       "200    13.4\n",
       "Name: Sales, Length: 200, dtype: float64"
      ]
     },
     "execution_count": 21,
     "metadata": {},
     "output_type": "execute_result"
    }
   ],
   "source": [
    "y"
   ]
  },
  {
   "cell_type": "markdown",
   "id": "5519fdb8",
   "metadata": {
    "id": "5519fdb8"
   },
   "source": [
    "## Step 5: Split the data into train and test set\n",
    "- Now our data is ready to feed to the program. But here we'll split the data into train and test dataset so that after training the model we can test the model on the test dataset and find out how accurate are its predictions.\n",
    "- Here we are splitting the data so that the training dataset contains 80% of the data and the test dataset contains 20% of the total data.\n",
    "- Here we are using the train_test_split method from the sklearn library. We'll train our model on x_train and y_train, test it on x_test and y_test.\n",
    "\n",
    "- test_size: Here we specify the size we want for our test dataset.\n",
    "\n",
    "- random_state: When we use a random number generator for number or sequence generation, we give a starting number (AKA seed). When we provide the same seed, every time it’ll generate the same sequence as the first one. That’s why to keep the same random values every time, we give seed as random_state in train_test_split()."
   ]
  },
  {
   "cell_type": "code",
   "execution_count": 22,
   "id": "f1b8c757",
   "metadata": {
    "executionInfo": {
     "elapsed": 74,
     "status": "ok",
     "timestamp": 1649428829852,
     "user": {
      "displayName": "Harsh Kumar",
      "userId": "02225357421166406900"
     },
     "user_tz": -330
    },
    "id": "f1b8c757"
   },
   "outputs": [],
   "source": [
    "# Splitting the dataset into testing and training data\n",
    "X_train, X_test, y_train, y_test = train_test_split(X, y, test_size=0.33, random_state=42)"
   ]
  },
  {
   "cell_type": "code",
   "execution_count": 23,
   "id": "4547a272",
   "metadata": {
    "colab": {
     "base_uri": "https://localhost:8080/"
    },
    "executionInfo": {
     "elapsed": 70,
     "status": "ok",
     "timestamp": 1649428829853,
     "user": {
      "displayName": "Harsh Kumar",
      "userId": "02225357421166406900"
     },
     "user_tz": -330
    },
    "id": "4547a272",
    "outputId": "36be5ce9-c663-467c-a3ae-ee7a985e60b4"
   },
   "outputs": [
    {
     "name": "stdout",
     "output_type": "stream",
     "text": [
      "(134, 3) (66, 3) (134,) (66,)\n"
     ]
    }
   ],
   "source": [
    "#display the shapes of the x and y train and test dataset.\n",
    "print(X_train.shape, X_test.shape, y_train.shape, y_test.shape)"
   ]
  },
  {
   "cell_type": "markdown",
   "id": "aea08b5e",
   "metadata": {
    "id": "aea08b5e"
   },
   "source": [
    "## Step 6: Train the Model using Linear Regression "
   ]
  },
  {
   "cell_type": "code",
   "execution_count": 24,
   "id": "c7a1c16b",
   "metadata": {
    "executionInfo": {
     "elapsed": 61,
     "status": "ok",
     "timestamp": 1649428829855,
     "user": {
      "displayName": "Harsh Kumar",
      "userId": "02225357421166406900"
     },
     "user_tz": -330
    },
    "id": "c7a1c16b"
   },
   "outputs": [],
   "source": [
    "# Creating the instance of the Linear regression\n",
    "lin_reg = LinearRegression()"
   ]
  },
  {
   "cell_type": "code",
   "execution_count": 25,
   "id": "5fd5e17a",
   "metadata": {
    "colab": {
     "base_uri": "https://localhost:8080/"
    },
    "executionInfo": {
     "elapsed": 60,
     "status": "ok",
     "timestamp": 1649428829857,
     "user": {
      "displayName": "Harsh Kumar",
      "userId": "02225357421166406900"
     },
     "user_tz": -330
    },
    "id": "5fd5e17a",
    "outputId": "ed6d4c4c-aae4-4913-a460-ab9670f58278"
   },
   "outputs": [
    {
     "name": "stdout",
     "output_type": "stream",
     "text": [
      "Training is done successfully..\n"
     ]
    }
   ],
   "source": [
    "# Train the model\n",
    "lin_reg.fit(X_train, y_train)\n",
    "print(\"Training is done successfully..\")"
   ]
  },
  {
   "cell_type": "code",
   "execution_count": 26,
   "id": "0e98b596",
   "metadata": {
    "colab": {
     "base_uri": "https://localhost:8080/"
    },
    "executionInfo": {
     "elapsed": 54,
     "status": "ok",
     "timestamp": 1649428829858,
     "user": {
      "displayName": "Harsh Kumar",
      "userId": "02225357421166406900"
     },
     "user_tz": -330
    },
    "id": "0e98b596",
    "outputId": "39222120-206d-4a53-bab5-74d22f27003d"
   },
   "outputs": [
    {
     "name": "stdout",
     "output_type": "stream",
     "text": [
      "The accuracy score of the model is: 86.0%\n"
     ]
    }
   ],
   "source": [
    "# Tesing the accuracy score of the model\n",
    "print(f\"The accuracy score of the model is: {round(lin_reg.score(X_test, y_test), 2)*100}%\")"
   ]
  },
  {
   "cell_type": "code",
   "execution_count": 27,
   "id": "16bc3d1c",
   "metadata": {
    "executionInfo": {
     "elapsed": 50,
     "status": "ok",
     "timestamp": 1649428829859,
     "user": {
      "displayName": "Harsh Kumar",
      "userId": "02225357421166406900"
     },
     "user_tz": -330
    },
    "id": "16bc3d1c"
   },
   "outputs": [
    {
     "data": {
      "text/plain": [
       "array([16.58906909, 21.19387139, 21.67866231, 10.80559485, 22.26783115,\n",
       "       13.31203409, 21.25021077,  7.37939991, 13.44507913, 15.19837924,\n",
       "        9.01436988,  6.56262896, 14.41284603,  8.93299667,  9.5614945 ,\n",
       "       12.10777688,  8.85405266, 16.25932365, 10.30736547, 18.84718937,\n",
       "       19.81461156, 13.16869841, 12.45308875, 21.58720185,  7.67242198,\n",
       "        5.66420239, 20.96472019, 11.89571131,  9.12729455,  8.49230597,\n",
       "       12.32493033,  9.98940968, 21.72727637, 12.63959708, 18.26169398,\n",
       "       20.18752607, 14.21234829, 21.03612955, 10.91801664,  4.41835705,\n",
       "        9.5918108 , 12.53584832, 10.14229719,  8.12580165, 13.33468499,\n",
       "        5.26925518,  9.30013634, 14.15671706,  8.75546176, 11.67113103,\n",
       "       15.66504776, 11.75622277, 13.21068536, 11.05694341,  6.41302772,\n",
       "        9.84629295,  9.45623047, 24.33878289,  7.68439609, 12.31265573,\n",
       "       17.59112732, 15.28495559, 11.45464105, 11.11565965, 16.61047089,\n",
       "        6.89996573])"
      ]
     },
     "execution_count": 27,
     "metadata": {},
     "output_type": "execute_result"
    }
   ],
   "source": [
    "# make prediction on test data\n",
    "y_pred = lin_reg.predict(X_test)\n",
    "y_pred"
   ]
  },
  {
   "cell_type": "code",
   "execution_count": 28,
   "id": "a856a7f7",
   "metadata": {
    "executionInfo": {
     "elapsed": 51,
     "status": "ok",
     "timestamp": 1649428829861,
     "user": {
      "displayName": "Harsh Kumar",
      "userId": "02225357421166406900"
     },
     "user_tz": -330
    },
    "id": "a856a7f7"
   },
   "outputs": [],
   "source": [
    "# Saving the result\n",
    "result = pd.DataFrame({'y_test':np.array(y_test).reshape(len(y_test)), 'y_pred':y_pred}, index=range(len(y_pred)))\n",
    "result.y_pred = result.y_pred.apply(lambda x: round(x,1))\n",
    "result.to_csv('Advertising sales prediction model result.csv')"
   ]
  },
  {
   "cell_type": "markdown",
   "id": "9a5d5587",
   "metadata": {
    "id": "9a5d5587"
   },
   "source": [
    "## Step 7: Save the model in a pickle file\n",
    "As model is giving very good accuracy we'll go with it and save it to pickle file. We save our model to pickle files so that when we want to perform predictions on unseen data, we don't have to train our model again. Any object in python can be pickled so that it can be saved on disk. What pickle does is that it “serializes” the object first before writing it to file. Pickling is a way to convert a python object (list, dict, etc.) into a character stream."
   ]
  },
  {
   "cell_type": "code",
   "execution_count": 29,
   "id": "689e6a33",
   "metadata": {
    "executionInfo": {
     "elapsed": 59,
     "status": "ok",
     "timestamp": 1649428829869,
     "user": {
      "displayName": "Harsh Kumar",
      "userId": "02225357421166406900"
     },
     "user_tz": -330
    },
    "id": "689e6a33"
   },
   "outputs": [],
   "source": [
    "# Save the model to disk\n",
    "pickle.dump(lin_reg, open('Advertising Sales Prediction model.pickle', 'wb'))"
   ]
  },
  {
   "cell_type": "markdown",
   "id": "55b399cc",
   "metadata": {
    "id": "55b399cc"
   },
   "source": [
    "## Summary\n",
    "Now our model is ready and whenever we need to make prediction, we just load the model using pickle and make the predictions."
   ]
  }
 ],
 "metadata": {
  "colab": {
   "name": "Advertising Sales Prediction.ipynb",
   "provenance": []
  },
  "kernelspec": {
   "display_name": "Python 3 (ipykernel)",
   "language": "python",
   "name": "python3"
  },
  "language_info": {
   "codemirror_mode": {
    "name": "ipython",
    "version": 3
   },
   "file_extension": ".py",
   "mimetype": "text/x-python",
   "name": "python",
   "nbconvert_exporter": "python",
   "pygments_lexer": "ipython3",
   "version": "3.9.7"
  }
 },
 "nbformat": 4,
 "nbformat_minor": 5
}
