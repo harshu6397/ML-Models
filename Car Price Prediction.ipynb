{
 "cells": [
  {
   "cell_type": "markdown",
   "id": "06dd0a62",
   "metadata": {},
   "source": [
    "## Overview of Dataset\n",
    "\n",
    "This dataset contains information about used cars.\n",
    "This data can be used for a lot of purposes such as price prediction to exemplify the use of linear regression in Machine Learning.\n",
    "The columns in the given dataset are as follows:\n",
    "\n",
    "- name\n",
    "- year\n",
    "- selling_price\n",
    "- km_driven\n",
    "- fuel\n",
    "- seller_type\n",
    "- transmission\n",
    "- Owner"
   ]
  },
  {
   "cell_type": "markdown",
   "id": "99623a05",
   "metadata": {},
   "source": [
    "## Dataset\n",
    "Vehicle dataset: Used Cars data form websites<br>\n",
    "https://www.kaggle.com/datasets/nehalbirla/vehicle-dataset-from-cardekho?select=CAR+DETAILS+FROM+CAR+DEKHO.csv"
   ]
  },
  {
   "cell_type": "markdown",
   "id": "b29bc639",
   "metadata": {},
   "source": [
    "## Step 01: Import all the required Libraries\n",
    "\n",
    "Let's load the necessary libraries and data and start coding.\n",
    "\n",
    "- <strong>NumPy</strong> : stands for Numerical Python, is a library consisting of multidimensional array objects and a collection of routines for processing those arrays. Using NumPy, mathematical and logical operations on arrays can be performed.\n",
    "- <strong>Pandas</strong> : In computer programming, pandas is a software library written for the Python programming language for data manipulation and analysis and storing in a proper way. In particular, it offers data structures and operations for manipulating numerical tables and time series\n",
    "- <strong>Sklearn</strong> : Scikit-learn (formerly scikits.learn) is a free software machine learning library for the Python programming language. It features various classification, regression and clustering algorithms including support vector machines, random forests, gradient boosting, k-means and DBSCAN, and is designed to interoperate with the Python numerical and scientific libraries NumPy and SciPy. The library is built upon the SciPy (Scientific Python) that must be installed before you can use scikit-learn.\n",
    "- <strong>Pickle</strong> : Python pickle module is used for serializing and de-serializing a Python object structure. Pickling is a way to convert a python object (list, dict, etc.) into a character stream. The idea is that this character stream contains all the information necessary to reconstruct the object in another python script.\n",
    "- <strong>Matplotlib</strong> : Matplotlib is a comprehensive library for creating static, animated, and interactive visualizations in Python. Matplotlib makes easy things easy and hard things possible.\n",
    "- <strong>Seaborn</strong> : Seaborn is a Python data visualization library based on matplotlib. It provides a high-level interface for drawing attractive and informative statistical graphics."
   ]
  },
  {
   "cell_type": "code",
   "execution_count": 1,
   "id": "b660406d",
   "metadata": {},
   "outputs": [],
   "source": [
    "# Importing Necessary Libraries\n",
    "import numpy as np\n",
    "import pandas as pd\n",
    "import matplotlib.pyplot as plt\n",
    "import seaborn as sns\n",
    "%matplotlib inline\n",
    "import pickle\n",
    "import sklearn\n",
    "from sklearn.model_selection import train_test_split\n",
    "from sklearn.preprocessing import StandardScaler\n",
    "from sklearn.linear_model import LassoCV, Lasso, LinearRegression\n",
    "from sklearn.preprocessing import LabelEncoder\n",
    "import warnings\n",
    "warnings.filterwarnings('ignore')"
   ]
  },
  {
   "cell_type": "markdown",
   "id": "2295be6f",
   "metadata": {},
   "source": [
    "## Step 02: Read all the required Data\n",
    "In this stage we are going to read our problem dataset and have a look on it."
   ]
  },
  {
   "cell_type": "code",
   "execution_count": 2,
   "id": "4236479e",
   "metadata": {},
   "outputs": [
    {
     "name": "stdout",
     "output_type": "stream",
     "text": [
      "Data Reading Done Successfully....\n"
     ]
    }
   ],
   "source": [
    "# Loading the data into pandas dataframe\n",
    "try: \n",
    "    data = pd.read_csv('Data/CAR DETAILS FROM CAR DEKHO.csv')\n",
    "    print(\"Data Reading Done Successfully....\")\n",
    "    \n",
    "except (FileNotFoundError, IOError):\n",
    "    print(\"Wrong File or File path\")"
   ]
  },
  {
   "cell_type": "code",
   "execution_count": 3,
   "id": "8ae4f92b",
   "metadata": {},
   "outputs": [
    {
     "data": {
      "text/html": [
       "<div>\n",
       "<style scoped>\n",
       "    .dataframe tbody tr th:only-of-type {\n",
       "        vertical-align: middle;\n",
       "    }\n",
       "\n",
       "    .dataframe tbody tr th {\n",
       "        vertical-align: top;\n",
       "    }\n",
       "\n",
       "    .dataframe thead th {\n",
       "        text-align: right;\n",
       "    }\n",
       "</style>\n",
       "<table border=\"1\" class=\"dataframe\">\n",
       "  <thead>\n",
       "    <tr style=\"text-align: right;\">\n",
       "      <th></th>\n",
       "      <th>name</th>\n",
       "      <th>year</th>\n",
       "      <th>selling_price</th>\n",
       "      <th>km_driven</th>\n",
       "      <th>fuel</th>\n",
       "      <th>seller_type</th>\n",
       "      <th>transmission</th>\n",
       "      <th>owner</th>\n",
       "    </tr>\n",
       "  </thead>\n",
       "  <tbody>\n",
       "    <tr>\n",
       "      <th>0</th>\n",
       "      <td>Maruti 800 AC</td>\n",
       "      <td>2007</td>\n",
       "      <td>60000</td>\n",
       "      <td>70000</td>\n",
       "      <td>Petrol</td>\n",
       "      <td>Individual</td>\n",
       "      <td>Manual</td>\n",
       "      <td>First Owner</td>\n",
       "    </tr>\n",
       "    <tr>\n",
       "      <th>1</th>\n",
       "      <td>Maruti Wagon R LXI Minor</td>\n",
       "      <td>2007</td>\n",
       "      <td>135000</td>\n",
       "      <td>50000</td>\n",
       "      <td>Petrol</td>\n",
       "      <td>Individual</td>\n",
       "      <td>Manual</td>\n",
       "      <td>First Owner</td>\n",
       "    </tr>\n",
       "    <tr>\n",
       "      <th>2</th>\n",
       "      <td>Hyundai Verna 1.6 SX</td>\n",
       "      <td>2012</td>\n",
       "      <td>600000</td>\n",
       "      <td>100000</td>\n",
       "      <td>Diesel</td>\n",
       "      <td>Individual</td>\n",
       "      <td>Manual</td>\n",
       "      <td>First Owner</td>\n",
       "    </tr>\n",
       "    <tr>\n",
       "      <th>3</th>\n",
       "      <td>Datsun RediGO T Option</td>\n",
       "      <td>2017</td>\n",
       "      <td>250000</td>\n",
       "      <td>46000</td>\n",
       "      <td>Petrol</td>\n",
       "      <td>Individual</td>\n",
       "      <td>Manual</td>\n",
       "      <td>First Owner</td>\n",
       "    </tr>\n",
       "    <tr>\n",
       "      <th>4</th>\n",
       "      <td>Honda Amaze VX i-DTEC</td>\n",
       "      <td>2014</td>\n",
       "      <td>450000</td>\n",
       "      <td>141000</td>\n",
       "      <td>Diesel</td>\n",
       "      <td>Individual</td>\n",
       "      <td>Manual</td>\n",
       "      <td>Second Owner</td>\n",
       "    </tr>\n",
       "  </tbody>\n",
       "</table>\n",
       "</div>"
      ],
      "text/plain": [
       "                       name  year  selling_price  km_driven    fuel  \\\n",
       "0             Maruti 800 AC  2007          60000      70000  Petrol   \n",
       "1  Maruti Wagon R LXI Minor  2007         135000      50000  Petrol   \n",
       "2      Hyundai Verna 1.6 SX  2012         600000     100000  Diesel   \n",
       "3    Datsun RediGO T Option  2017         250000      46000  Petrol   \n",
       "4     Honda Amaze VX i-DTEC  2014         450000     141000  Diesel   \n",
       "\n",
       "  seller_type transmission         owner  \n",
       "0  Individual       Manual   First Owner  \n",
       "1  Individual       Manual   First Owner  \n",
       "2  Individual       Manual   First Owner  \n",
       "3  Individual       Manual   First Owner  \n",
       "4  Individual       Manual  Second Owner  "
      ]
     },
     "execution_count": 3,
     "metadata": {},
     "output_type": "execute_result"
    }
   ],
   "source": [
    "# Checking the first five rows of the data\n",
    "data.head()"
   ]
  },
  {
   "cell_type": "code",
   "execution_count": 4,
   "id": "479344f4",
   "metadata": {},
   "outputs": [
    {
     "data": {
      "text/html": [
       "<div>\n",
       "<style scoped>\n",
       "    .dataframe tbody tr th:only-of-type {\n",
       "        vertical-align: middle;\n",
       "    }\n",
       "\n",
       "    .dataframe tbody tr th {\n",
       "        vertical-align: top;\n",
       "    }\n",
       "\n",
       "    .dataframe thead th {\n",
       "        text-align: right;\n",
       "    }\n",
       "</style>\n",
       "<table border=\"1\" class=\"dataframe\">\n",
       "  <thead>\n",
       "    <tr style=\"text-align: right;\">\n",
       "      <th></th>\n",
       "      <th>name</th>\n",
       "      <th>year</th>\n",
       "      <th>selling_price</th>\n",
       "      <th>km_driven</th>\n",
       "      <th>fuel</th>\n",
       "      <th>seller_type</th>\n",
       "      <th>transmission</th>\n",
       "      <th>owner</th>\n",
       "    </tr>\n",
       "  </thead>\n",
       "  <tbody>\n",
       "    <tr>\n",
       "      <th>4335</th>\n",
       "      <td>Hyundai i20 Magna 1.4 CRDi (Diesel)</td>\n",
       "      <td>2014</td>\n",
       "      <td>409999</td>\n",
       "      <td>80000</td>\n",
       "      <td>Diesel</td>\n",
       "      <td>Individual</td>\n",
       "      <td>Manual</td>\n",
       "      <td>Second Owner</td>\n",
       "    </tr>\n",
       "    <tr>\n",
       "      <th>4336</th>\n",
       "      <td>Hyundai i20 Magna 1.4 CRDi</td>\n",
       "      <td>2014</td>\n",
       "      <td>409999</td>\n",
       "      <td>80000</td>\n",
       "      <td>Diesel</td>\n",
       "      <td>Individual</td>\n",
       "      <td>Manual</td>\n",
       "      <td>Second Owner</td>\n",
       "    </tr>\n",
       "    <tr>\n",
       "      <th>4337</th>\n",
       "      <td>Maruti 800 AC BSIII</td>\n",
       "      <td>2009</td>\n",
       "      <td>110000</td>\n",
       "      <td>83000</td>\n",
       "      <td>Petrol</td>\n",
       "      <td>Individual</td>\n",
       "      <td>Manual</td>\n",
       "      <td>Second Owner</td>\n",
       "    </tr>\n",
       "    <tr>\n",
       "      <th>4338</th>\n",
       "      <td>Hyundai Creta 1.6 CRDi SX Option</td>\n",
       "      <td>2016</td>\n",
       "      <td>865000</td>\n",
       "      <td>90000</td>\n",
       "      <td>Diesel</td>\n",
       "      <td>Individual</td>\n",
       "      <td>Manual</td>\n",
       "      <td>First Owner</td>\n",
       "    </tr>\n",
       "    <tr>\n",
       "      <th>4339</th>\n",
       "      <td>Renault KWID RXT</td>\n",
       "      <td>2016</td>\n",
       "      <td>225000</td>\n",
       "      <td>40000</td>\n",
       "      <td>Petrol</td>\n",
       "      <td>Individual</td>\n",
       "      <td>Manual</td>\n",
       "      <td>First Owner</td>\n",
       "    </tr>\n",
       "  </tbody>\n",
       "</table>\n",
       "</div>"
      ],
      "text/plain": [
       "                                     name  year  selling_price  km_driven  \\\n",
       "4335  Hyundai i20 Magna 1.4 CRDi (Diesel)  2014         409999      80000   \n",
       "4336           Hyundai i20 Magna 1.4 CRDi  2014         409999      80000   \n",
       "4337                  Maruti 800 AC BSIII  2009         110000      83000   \n",
       "4338     Hyundai Creta 1.6 CRDi SX Option  2016         865000      90000   \n",
       "4339                     Renault KWID RXT  2016         225000      40000   \n",
       "\n",
       "        fuel seller_type transmission         owner  \n",
       "4335  Diesel  Individual       Manual  Second Owner  \n",
       "4336  Diesel  Individual       Manual  Second Owner  \n",
       "4337  Petrol  Individual       Manual  Second Owner  \n",
       "4338  Diesel  Individual       Manual   First Owner  \n",
       "4339  Petrol  Individual       Manual   First Owner  "
      ]
     },
     "execution_count": 4,
     "metadata": {},
     "output_type": "execute_result"
    }
   ],
   "source": [
    "# Checking the last five rows of the data\n",
    "data.tail()"
   ]
  },
  {
   "cell_type": "markdown",
   "id": "f372d9da",
   "metadata": {},
   "source": [
    "### Data Exploration\n",
    "In this stage, we explore the data with different techniques.."
   ]
  },
  {
   "cell_type": "code",
   "execution_count": 5,
   "id": "5ea7e5f9",
   "metadata": {},
   "outputs": [
    {
     "name": "stdout",
     "output_type": "stream",
     "text": [
      "The number of rows are 4340 and the number of columns are 8\n"
     ]
    }
   ],
   "source": [
    "# Checking the rows and columns of the dataset\n",
    "print(f\"The number of rows are {data.shape[0]} and the number of columns are {data.shape[1]}\")"
   ]
  },
  {
   "cell_type": "code",
   "execution_count": 6,
   "id": "3cde28da",
   "metadata": {},
   "outputs": [
    {
     "name": "stdout",
     "output_type": "stream",
     "text": [
      "<class 'pandas.core.frame.DataFrame'>\n",
      "RangeIndex: 4340 entries, 0 to 4339\n",
      "Data columns (total 8 columns):\n",
      " #   Column         Non-Null Count  Dtype \n",
      "---  ------         --------------  ----- \n",
      " 0   name           4340 non-null   object\n",
      " 1   year           4340 non-null   int64 \n",
      " 2   selling_price  4340 non-null   int64 \n",
      " 3   km_driven      4340 non-null   int64 \n",
      " 4   fuel           4340 non-null   object\n",
      " 5   seller_type    4340 non-null   object\n",
      " 6   transmission   4340 non-null   object\n",
      " 7   owner          4340 non-null   object\n",
      "dtypes: int64(3), object(5)\n",
      "memory usage: 271.4+ KB\n"
     ]
    }
   ],
   "source": [
    "# Getting more insights of the data using .info() method\n",
    "data.info()"
   ]
  },
  {
   "cell_type": "code",
   "execution_count": 7,
   "id": "328298eb",
   "metadata": {},
   "outputs": [
    {
     "data": {
      "text/html": [
       "<div>\n",
       "<style scoped>\n",
       "    .dataframe tbody tr th:only-of-type {\n",
       "        vertical-align: middle;\n",
       "    }\n",
       "\n",
       "    .dataframe tbody tr th {\n",
       "        vertical-align: top;\n",
       "    }\n",
       "\n",
       "    .dataframe thead th {\n",
       "        text-align: right;\n",
       "    }\n",
       "</style>\n",
       "<table border=\"1\" class=\"dataframe\">\n",
       "  <thead>\n",
       "    <tr style=\"text-align: right;\">\n",
       "      <th></th>\n",
       "      <th>year</th>\n",
       "      <th>selling_price</th>\n",
       "      <th>km_driven</th>\n",
       "    </tr>\n",
       "  </thead>\n",
       "  <tbody>\n",
       "    <tr>\n",
       "      <th>count</th>\n",
       "      <td>4340.000000</td>\n",
       "      <td>4.340000e+03</td>\n",
       "      <td>4340.000000</td>\n",
       "    </tr>\n",
       "    <tr>\n",
       "      <th>mean</th>\n",
       "      <td>2013.090783</td>\n",
       "      <td>5.041273e+05</td>\n",
       "      <td>66215.777419</td>\n",
       "    </tr>\n",
       "    <tr>\n",
       "      <th>std</th>\n",
       "      <td>4.215344</td>\n",
       "      <td>5.785487e+05</td>\n",
       "      <td>46644.102194</td>\n",
       "    </tr>\n",
       "    <tr>\n",
       "      <th>min</th>\n",
       "      <td>1992.000000</td>\n",
       "      <td>2.000000e+04</td>\n",
       "      <td>1.000000</td>\n",
       "    </tr>\n",
       "    <tr>\n",
       "      <th>25%</th>\n",
       "      <td>2011.000000</td>\n",
       "      <td>2.087498e+05</td>\n",
       "      <td>35000.000000</td>\n",
       "    </tr>\n",
       "    <tr>\n",
       "      <th>50%</th>\n",
       "      <td>2014.000000</td>\n",
       "      <td>3.500000e+05</td>\n",
       "      <td>60000.000000</td>\n",
       "    </tr>\n",
       "    <tr>\n",
       "      <th>75%</th>\n",
       "      <td>2016.000000</td>\n",
       "      <td>6.000000e+05</td>\n",
       "      <td>90000.000000</td>\n",
       "    </tr>\n",
       "    <tr>\n",
       "      <th>max</th>\n",
       "      <td>2020.000000</td>\n",
       "      <td>8.900000e+06</td>\n",
       "      <td>806599.000000</td>\n",
       "    </tr>\n",
       "  </tbody>\n",
       "</table>\n",
       "</div>"
      ],
      "text/plain": [
       "              year  selling_price      km_driven\n",
       "count  4340.000000   4.340000e+03    4340.000000\n",
       "mean   2013.090783   5.041273e+05   66215.777419\n",
       "std       4.215344   5.785487e+05   46644.102194\n",
       "min    1992.000000   2.000000e+04       1.000000\n",
       "25%    2011.000000   2.087498e+05   35000.000000\n",
       "50%    2014.000000   3.500000e+05   60000.000000\n",
       "75%    2016.000000   6.000000e+05   90000.000000\n",
       "max    2020.000000   8.900000e+06  806599.000000"
      ]
     },
     "execution_count": 7,
     "metadata": {},
     "output_type": "execute_result"
    }
   ],
   "source": [
    "# Statistic of the dataset\n",
    "data.describe()"
   ]
  },
  {
   "cell_type": "markdown",
   "id": "281f576b",
   "metadata": {},
   "source": [
    "#### Let's check if the data set has any missing values."
   ]
  },
  {
   "cell_type": "code",
   "execution_count": 8,
   "id": "03ee4398",
   "metadata": {},
   "outputs": [
    {
     "data": {
      "text/plain": [
       "name             0\n",
       "year             0\n",
       "selling_price    0\n",
       "km_driven        0\n",
       "fuel             0\n",
       "seller_type      0\n",
       "transmission     0\n",
       "owner            0\n",
       "dtype: int64"
      ]
     },
     "execution_count": 8,
     "metadata": {},
     "output_type": "execute_result"
    }
   ],
   "source": [
    "# Chcek Missing values\n",
    "data.isnull().sum()"
   ]
  },
  {
   "cell_type": "markdown",
   "id": "4cb88b3d",
   "metadata": {},
   "source": [
    "As we can see there is no missing value present in the dataset"
   ]
  },
  {
   "cell_type": "markdown",
   "id": "121fa72f",
   "metadata": {},
   "source": [
    "#### Let's proceed and check the distribution of the target variable."
   ]
  },
  {
   "cell_type": "code",
   "execution_count": 9,
   "id": "3652b20c",
   "metadata": {},
   "outputs": [
    {
     "data": {
      "text/plain": [
       "<AxesSubplot:xlabel='selling_price', ylabel='Density'>"
      ]
     },
     "execution_count": 9,
     "metadata": {},
     "output_type": "execute_result"
    },
    {
     "data": {
      "image/png": "[encoded data removed]",
      "text/plain": [
       "<Figure size 432x288 with 1 Axes>"
      ]
     },
     "metadata": {
      "needs_background": "light"
     },
     "output_type": "display_data"
    }
   ],
   "source": [
    "#SalePrice\n",
    "sns.distplot(data['selling_price'])"
   ]
  },
  {
   "cell_type": "markdown",
   "id": "bf4393b1",
   "metadata": {},
   "source": [
    "We see that the target variable selling price has a right-skewed distribution. We'll need to log transform this variable so that it becomes normally distributed. A normally distributed (or close to normal) target variable helps in better modeling the relationship between target and independent variables."
   ]
  },
  {
   "cell_type": "code",
   "execution_count": 10,
   "id": "03d8e034",
   "metadata": {},
   "outputs": [
    {
     "name": "stdout",
     "output_type": "stream",
     "text": [
      "The skewness of selling-price is 4.892021472306356\n"
     ]
    }
   ],
   "source": [
    "#skewness\n",
    "print(f\"The skewness of selling-price is {data.selling_price.skew()}\")"
   ]
  },
  {
   "cell_type": "code",
   "execution_count": 11,
   "id": "93cb1222",
   "metadata": {},
   "outputs": [
    {
     "name": "stdout",
     "output_type": "stream",
     "text": [
      "Skewness is 0.06016301220961387\n"
     ]
    },
    {
     "data": {
      "image/png": "[encoded data removed]",
      "text/plain": [
       "<Figure size 432x288 with 1 Axes>"
      ]
     },
     "metadata": {
      "needs_background": "light"
     },
     "output_type": "display_data"
    }
   ],
   "source": [
    "#now transforming the target variable\n",
    "target = np.log(data.selling_price)\n",
    "data['selling_price'] = target\n",
    "print ('Skewness is', target.skew())\n",
    "sns.distplot(target)\n",
    "plt.show()"
   ]
  },
  {
   "cell_type": "markdown",
   "id": "f849c114",
   "metadata": {},
   "source": [
    "As we saw, log transformation of the target variable has helped us fixing its skewed distribution and the new distribution looks closer to normal."
   ]
  },
  {
   "cell_type": "code",
   "execution_count": 12,
   "id": "331d5a77",
   "metadata": {},
   "outputs": [
    {
     "name": "stdout",
     "output_type": "stream",
     "text": [
      "There are 3 numeric and 5 categorical columns in dataset.\n"
     ]
    }
   ],
   "source": [
    "# Chcek how many numerical and categorical feature present\n",
    "numeric_data = data[data.dtypes[(data.dtypes == 'int64') | (data.dtypes == 'float64')].index]\n",
    "categorical_data = data[data.dtypes[data.dtypes == 'object'].index]\n",
    "print (f\"There are {numeric_data.shape[1]} numeric and {categorical_data.shape[1]} categorical columns in dataset.\")"
   ]
  },
  {
   "cell_type": "markdown",
   "id": "b6018e2f",
   "metadata": {},
   "source": [
    "#### Lets explore the numeric data....."
   ]
  },
  {
   "cell_type": "code",
   "execution_count": 13,
   "id": "eb0ccd98",
   "metadata": {},
   "outputs": [
    {
     "data": {
      "text/html": [
       "<div>\n",
       "<style scoped>\n",
       "    .dataframe tbody tr th:only-of-type {\n",
       "        vertical-align: middle;\n",
       "    }\n",
       "\n",
       "    .dataframe tbody tr th {\n",
       "        vertical-align: top;\n",
       "    }\n",
       "\n",
       "    .dataframe thead th {\n",
       "        text-align: right;\n",
       "    }\n",
       "</style>\n",
       "<table border=\"1\" class=\"dataframe\">\n",
       "  <thead>\n",
       "    <tr style=\"text-align: right;\">\n",
       "      <th></th>\n",
       "      <th>year</th>\n",
       "      <th>selling_price</th>\n",
       "      <th>km_driven</th>\n",
       "    </tr>\n",
       "  </thead>\n",
       "  <tbody>\n",
       "    <tr>\n",
       "      <th>0</th>\n",
       "      <td>2007</td>\n",
       "      <td>11.002100</td>\n",
       "      <td>70000</td>\n",
       "    </tr>\n",
       "    <tr>\n",
       "      <th>1</th>\n",
       "      <td>2007</td>\n",
       "      <td>11.813030</td>\n",
       "      <td>50000</td>\n",
       "    </tr>\n",
       "    <tr>\n",
       "      <th>2</th>\n",
       "      <td>2012</td>\n",
       "      <td>13.304685</td>\n",
       "      <td>100000</td>\n",
       "    </tr>\n",
       "    <tr>\n",
       "      <th>3</th>\n",
       "      <td>2017</td>\n",
       "      <td>12.429216</td>\n",
       "      <td>46000</td>\n",
       "    </tr>\n",
       "    <tr>\n",
       "      <th>4</th>\n",
       "      <td>2014</td>\n",
       "      <td>13.017003</td>\n",
       "      <td>141000</td>\n",
       "    </tr>\n",
       "  </tbody>\n",
       "</table>\n",
       "</div>"
      ],
      "text/plain": [
       "   year  selling_price  km_driven\n",
       "0  2007      11.002100      70000\n",
       "1  2007      11.813030      50000\n",
       "2  2012      13.304685     100000\n",
       "3  2017      12.429216      46000\n",
       "4  2014      13.017003     141000"
      ]
     },
     "execution_count": 13,
     "metadata": {},
     "output_type": "execute_result"
    }
   ],
   "source": [
    "numeric_data.head()"
   ]
  },
  {
   "cell_type": "code",
   "execution_count": 14,
   "id": "41a8f16f",
   "metadata": {},
   "outputs": [
    {
     "name": "stdout",
     "output_type": "stream",
     "text": [
      "selling_price    1.000000\n",
      "year             0.695723\n",
      "km_driven       -0.242700\n",
      "Name: selling_price, dtype: float64\n"
     ]
    },
    {
     "data": {
      "image/png": "[encoded data removed]",
      "text/plain": [
       "<Figure size 720x720 with 2 Axes>"
      ]
     },
     "metadata": {
      "needs_background": "light"
     },
     "output_type": "display_data"
    }
   ],
   "source": [
    "# Correlation map to check multicolinearity\n",
    "plt.figure(figsize=(10,10))\n",
    "corr = data.corr()\n",
    "sns.heatmap(corr, annot=True, cmap='Blues')\n",
    "print(corr['selling_price'].sort_values(ascending=False))"
   ]
  },
  {
   "cell_type": "markdown",
   "id": "c8fa7ab5",
   "metadata": {},
   "source": [
    "Here we can see that year is positively correlated with the target feature i.e. selling-price whereas the km-driven is negetive correlated with the target feature i.e. selling-price which means if the yaer is near to the todays time then the selling-price is also high and if the car is less km driven then the selling-price is high otherwise low."
   ]
  },
  {
   "cell_type": "code",
   "execution_count": 15,
   "id": "534c1a8e",
   "metadata": {},
   "outputs": [
    {
     "data": {
      "text/plain": [
       "<AxesSubplot:xlabel='year', ylabel='count'>"
      ]
     },
     "execution_count": 15,
     "metadata": {},
     "output_type": "execute_result"
    },
    {
     "data": {
      "image/png": "[encoded data removed]",
      "text/plain": [
       "<Figure size 1440x504 with 1 Axes>"
      ]
     },
     "metadata": {
      "needs_background": "light"
     },
     "output_type": "display_data"
    }
   ],
   "source": [
    "# Ploting the car data yearly\n",
    "plt.figure(figsize=(20,7))\n",
    "sns.countplot(x='year', data=numeric_data)"
   ]
  },
  {
   "cell_type": "markdown",
   "id": "4f8eea3e",
   "metadata": {},
   "source": [
    "Here we can see that of the cars are of 2018 model and then 2015 and so on.."
   ]
  },
  {
   "cell_type": "code",
   "execution_count": 16,
   "id": "3b3b8b31",
   "metadata": {},
   "outputs": [
    {
     "data": {
      "text/plain": [
       "<seaborn.axisgrid.FacetGrid at 0x1d9ccc54bb0>"
      ]
     },
     "execution_count": 16,
     "metadata": {},
     "output_type": "execute_result"
    },
    {
     "data": {
      "image/png": "[encoded data removed]",
      "text/plain": [
       "<Figure size 434.25x360 with 1 Axes>"
      ]
     },
     "metadata": {
      "needs_background": "light"
     },
     "output_type": "display_data"
    }
   ],
   "source": [
    "# Ploting the selling price vs km driven\n",
    "sns.relplot(x='selling_price', y='km_driven', data=data, hue='km_driven')"
   ]
  },
  {
   "cell_type": "markdown",
   "id": "b36b3b01",
   "metadata": {},
   "source": [
    "Here km_driven and the selling_price has inversely proportional with each other because lower the km driven, higher the selling_price and higher the km_driven, lower the selling_price."
   ]
  },
  {
   "cell_type": "code",
   "execution_count": 17,
   "id": "499d88d7",
   "metadata": {},
   "outputs": [
    {
     "data": {
      "text/plain": [
       "<AxesSubplot:xlabel='selling_price', ylabel='year'>"
      ]
     },
     "execution_count": 17,
     "metadata": {},
     "output_type": "execute_result"
    },
    {
     "data": {
      "image/png": "[encoded data removed]",
      "text/plain": [
       "<Figure size 432x288 with 1 Axes>"
      ]
     },
     "metadata": {
      "needs_background": "light"
     },
     "output_type": "display_data"
    }
   ],
   "source": [
    "# Ploting the selling price vs year\n",
    "sns.regplot(x='selling_price', y='year', data=data)"
   ]
  },
  {
   "cell_type": "markdown",
   "id": "815a865d",
   "metadata": {},
   "source": [
    "Here year and the selling_price has directly proportional with each other because lower the km driven, lower the selling_price and higher the km_driven, higher the selling_price."
   ]
  },
  {
   "cell_type": "markdown",
   "id": "e441ff7b",
   "metadata": {},
   "source": [
    "#### Chceking for outliers...."
   ]
  },
  {
   "cell_type": "code",
   "execution_count": 18,
   "id": "0f9bcf5a",
   "metadata": {},
   "outputs": [
    {
     "data": {
      "text/plain": [
       "<AxesSubplot:ylabel='km_driven'>"
      ]
     },
     "execution_count": 18,
     "metadata": {},
     "output_type": "execute_result"
    },
    {
     "data": {
      "image/png": "[encoded data removed]",
      "text/plain": [
       "<Figure size 432x288 with 1 Axes>"
      ]
     },
     "metadata": {
      "needs_background": "light"
     },
     "output_type": "display_data"
    }
   ],
   "source": [
    "sns.boxplot(y='km_driven', data=data, color='g')"
   ]
  },
  {
   "cell_type": "code",
   "execution_count": 19,
   "id": "3aeef971",
   "metadata": {},
   "outputs": [
    {
     "data": {
      "text/plain": [
       "<AxesSubplot:ylabel='year'>"
      ]
     },
     "execution_count": 19,
     "metadata": {},
     "output_type": "execute_result"
    },
    {
     "data": {
      "image/png": "[encoded data removed]",
      "text/plain": [
       "<Figure size 432x288 with 1 Axes>"
      ]
     },
     "metadata": {
      "needs_background": "light"
     },
     "output_type": "display_data"
    }
   ],
   "source": [
    "sns.boxplot(y='year', data=data, color='r')"
   ]
  },
  {
   "cell_type": "code",
   "execution_count": 20,
   "id": "3b10972e",
   "metadata": {
    "scrolled": true
   },
   "outputs": [
    {
     "data": {
      "text/plain": [
       "<AxesSubplot:ylabel='selling_price'>"
      ]
     },
     "execution_count": 20,
     "metadata": {},
     "output_type": "execute_result"
    },
    {
     "data": {
      "image/png": "[encoded data removed]",
      "text/plain": [
       "<Figure size 432x288 with 1 Axes>"
      ]
     },
     "metadata": {
      "needs_background": "light"
     },
     "output_type": "display_data"
    }
   ],
   "source": [
    "sns.boxplot(y='selling_price', data=data)"
   ]
  },
  {
   "cell_type": "markdown",
   "id": "0f49da39",
   "metadata": {},
   "source": [
    "As we can see that there are outliers in the km_driven and selling_price feature so first remove these outliers."
   ]
  },
  {
   "cell_type": "markdown",
   "id": "435d44b6",
   "metadata": {},
   "source": [
    "#### Lets explore the categorical data....."
   ]
  },
  {
   "cell_type": "code",
   "execution_count": 21,
   "id": "7d2300b5",
   "metadata": {},
   "outputs": [
    {
     "data": {
      "text/html": [
       "<div>\n",
       "<style scoped>\n",
       "    .dataframe tbody tr th:only-of-type {\n",
       "        vertical-align: middle;\n",
       "    }\n",
       "\n",
       "    .dataframe tbody tr th {\n",
       "        vertical-align: top;\n",
       "    }\n",
       "\n",
       "    .dataframe thead th {\n",
       "        text-align: right;\n",
       "    }\n",
       "</style>\n",
       "<table border=\"1\" class=\"dataframe\">\n",
       "  <thead>\n",
       "    <tr style=\"text-align: right;\">\n",
       "      <th></th>\n",
       "      <th>name</th>\n",
       "      <th>fuel</th>\n",
       "      <th>seller_type</th>\n",
       "      <th>transmission</th>\n",
       "      <th>owner</th>\n",
       "    </tr>\n",
       "  </thead>\n",
       "  <tbody>\n",
       "    <tr>\n",
       "      <th>0</th>\n",
       "      <td>Maruti 800 AC</td>\n",
       "      <td>Petrol</td>\n",
       "      <td>Individual</td>\n",
       "      <td>Manual</td>\n",
       "      <td>First Owner</td>\n",
       "    </tr>\n",
       "    <tr>\n",
       "      <th>1</th>\n",
       "      <td>Maruti Wagon R LXI Minor</td>\n",
       "      <td>Petrol</td>\n",
       "      <td>Individual</td>\n",
       "      <td>Manual</td>\n",
       "      <td>First Owner</td>\n",
       "    </tr>\n",
       "    <tr>\n",
       "      <th>2</th>\n",
       "      <td>Hyundai Verna 1.6 SX</td>\n",
       "      <td>Diesel</td>\n",
       "      <td>Individual</td>\n",
       "      <td>Manual</td>\n",
       "      <td>First Owner</td>\n",
       "    </tr>\n",
       "    <tr>\n",
       "      <th>3</th>\n",
       "      <td>Datsun RediGO T Option</td>\n",
       "      <td>Petrol</td>\n",
       "      <td>Individual</td>\n",
       "      <td>Manual</td>\n",
       "      <td>First Owner</td>\n",
       "    </tr>\n",
       "    <tr>\n",
       "      <th>4</th>\n",
       "      <td>Honda Amaze VX i-DTEC</td>\n",
       "      <td>Diesel</td>\n",
       "      <td>Individual</td>\n",
       "      <td>Manual</td>\n",
       "      <td>Second Owner</td>\n",
       "    </tr>\n",
       "  </tbody>\n",
       "</table>\n",
       "</div>"
      ],
      "text/plain": [
       "                       name    fuel seller_type transmission         owner\n",
       "0             Maruti 800 AC  Petrol  Individual       Manual   First Owner\n",
       "1  Maruti Wagon R LXI Minor  Petrol  Individual       Manual   First Owner\n",
       "2      Hyundai Verna 1.6 SX  Diesel  Individual       Manual   First Owner\n",
       "3    Datsun RediGO T Option  Petrol  Individual       Manual   First Owner\n",
       "4     Honda Amaze VX i-DTEC  Diesel  Individual       Manual  Second Owner"
      ]
     },
     "execution_count": 21,
     "metadata": {},
     "output_type": "execute_result"
    }
   ],
   "source": [
    "categorical_data.head()"
   ]
  },
  {
   "cell_type": "code",
   "execution_count": 22,
   "id": "7e495b61",
   "metadata": {},
   "outputs": [
    {
     "data": {
      "image/png": "[encoded data removed]",
      "text/plain": [
       "<Figure size 720x360 with 1 Axes>"
      ]
     },
     "metadata": {
      "needs_background": "light"
     },
     "output_type": "display_data"
    }
   ],
   "source": [
    "# Ploting Fuel Data\n",
    "plt.figure(figsize=(10,5))\n",
    "sns.countplot(x='fuel', data=categorical_data, palette='viridis')\n",
    "sns.despine()"
   ]
  },
  {
   "cell_type": "markdown",
   "id": "48671e0c",
   "metadata": {},
   "source": [
    "Most of the cars are of Petrol and Diesel type."
   ]
  },
  {
   "cell_type": "code",
   "execution_count": 23,
   "id": "973e42ed",
   "metadata": {},
   "outputs": [
    {
     "data": {
      "image/png": "[encoded data removed]",
      "text/plain": [
       "<Figure size 720x360 with 1 Axes>"
      ]
     },
     "metadata": {
      "needs_background": "light"
     },
     "output_type": "display_data"
    }
   ],
   "source": [
    "# Ploting Seller Type\n",
    "plt.figure(figsize=(10,5))\n",
    "sns.countplot(x='seller_type', data=categorical_data)\n",
    "sns.despine()"
   ]
  },
  {
   "cell_type": "markdown",
   "id": "34103738",
   "metadata": {},
   "source": [
    "Most of the seller are individual and then other are dealer."
   ]
  },
  {
   "cell_type": "code",
   "execution_count": 24,
   "id": "19f0d001",
   "metadata": {},
   "outputs": [
    {
     "data": {
      "image/png": "[encoded data removed]",
      "text/plain": [
       "<Figure size 720x360 with 1 Axes>"
      ]
     },
     "metadata": {
      "needs_background": "light"
     },
     "output_type": "display_data"
    }
   ],
   "source": [
    "# Ploting Transmission Data\n",
    "plt.figure(figsize=(10,5))\n",
    "sns.countplot(x='transmission', data=categorical_data, palette='Blues')\n",
    "sns.despine()"
   ]
  },
  {
   "cell_type": "markdown",
   "id": "f5e8af0f",
   "metadata": {},
   "source": [
    "Most of the Transmission is Manual."
   ]
  },
  {
   "cell_type": "code",
   "execution_count": 25,
   "id": "1ca21534",
   "metadata": {},
   "outputs": [
    {
     "data": {
      "image/png": "[encoded data removed]",
      "text/plain": [
       "<Figure size 720x360 with 1 Axes>"
      ]
     },
     "metadata": {
      "needs_background": "light"
     },
     "output_type": "display_data"
    }
   ],
   "source": [
    "# Ploting Owner Data\n",
    "plt.figure(figsize=(10,5))\n",
    "sns.countplot(x='owner', data=categorical_data, palette='magma')\n",
    "sns.despine()"
   ]
  },
  {
   "cell_type": "markdown",
   "id": "7b5f293d",
   "metadata": {},
   "source": [
    "Most of the owners are first and second owners."
   ]
  },
  {
   "cell_type": "markdown",
   "id": "4c24edd1",
   "metadata": {},
   "source": [
    "## Step 04: Data Pre-Processing\n",
    "Make data ready for Machine Learning model..."
   ]
  },
  {
   "cell_type": "code",
   "execution_count": 26,
   "id": "d0915c9c",
   "metadata": {},
   "outputs": [],
   "source": [
    "# Function to detect outliers\n",
    "def outlier_detection(feature):\n",
    "    Q1, Q3 = np.percentile(data[feature], [25, 75])\n",
    "    IQR = Q3 - Q1\n",
    "    lower_fence = Q1 - (1.5 * IQR)\n",
    "    upper_fence = Q3 + (1.5 * IQR)\n",
    "    return lower_fence, upper_fence"
   ]
  },
  {
   "cell_type": "code",
   "execution_count": 27,
   "id": "e5dd3760",
   "metadata": {},
   "outputs": [],
   "source": [
    "# Calculating the lower and Upper fence\n",
    "selling_price_lower_fence, selling_price_upper_fence = outlier_detection('selling_price')\n",
    "km_driven_lower_fence, km_driven_upper_fence = outlier_detection('km_driven')\n",
    "year_lower_fence, year_upper_fence = outlier_detection('year')"
   ]
  },
  {
   "cell_type": "code",
   "execution_count": 28,
   "id": "69a34f03",
   "metadata": {},
   "outputs": [],
   "source": [
    "# Removing the outlier in selling_price\n",
    "data.loc[data['selling_price']<=selling_price_lower_fence,'selling_price']=selling_price_lower_fence\n",
    "data.loc[data['selling_price']>=selling_price_upper_fence,'selling_price']=selling_price_upper_fence"
   ]
  },
  {
   "cell_type": "code",
   "execution_count": 29,
   "id": "17c3685d",
   "metadata": {},
   "outputs": [],
   "source": [
    "# Removing the outlier in km_driven\n",
    "data.loc[data['km_driven']>=km_driven_upper_fence,'km_driven']=km_driven_upper_fence"
   ]
  },
  {
   "cell_type": "code",
   "execution_count": 30,
   "id": "ccf31e29",
   "metadata": {},
   "outputs": [],
   "source": [
    "# Removing the outlier in year\n",
    "data.loc[data['year']<=year_lower_fence,'year']=year_lower_fence"
   ]
  },
  {
   "cell_type": "code",
   "execution_count": 31,
   "id": "ccfb8e58",
   "metadata": {},
   "outputs": [
    {
     "data": {
      "text/plain": [
       "<AxesSubplot:ylabel='km_driven'>"
      ]
     },
     "execution_count": 31,
     "metadata": {},
     "output_type": "execute_result"
    },
    {
     "data": {
      "image/png": "[encoded data removed]",
      "text/plain": [
       "<Figure size 432x288 with 1 Axes>"
      ]
     },
     "metadata": {
      "needs_background": "light"
     },
     "output_type": "display_data"
    }
   ],
   "source": [
    "sns.boxplot(y='km_driven', data=data, color='g')"
   ]
  },
  {
   "cell_type": "code",
   "execution_count": 32,
   "id": "31bc7d09",
   "metadata": {},
   "outputs": [
    {
     "data": {
      "text/plain": [
       "<AxesSubplot:ylabel='selling_price'>"
      ]
     },
     "execution_count": 32,
     "metadata": {},
     "output_type": "execute_result"
    },
    {
     "data": {
      "image/png": "[encoded data removed]",
      "text/plain": [
       "<Figure size 432x288 with 1 Axes>"
      ]
     },
     "metadata": {
      "needs_background": "light"
     },
     "output_type": "display_data"
    }
   ],
   "source": [
    "sns.boxplot(y='selling_price', data=data)"
   ]
  },
  {
   "cell_type": "code",
   "execution_count": 33,
   "id": "0c798b3d",
   "metadata": {},
   "outputs": [
    {
     "data": {
      "text/plain": [
       "<AxesSubplot:ylabel='year'>"
      ]
     },
     "execution_count": 33,
     "metadata": {},
     "output_type": "execute_result"
    },
    {
     "data": {
      "image/png": "[encoded data removed]",
      "text/plain": [
       "<Figure size 432x288 with 1 Axes>"
      ]
     },
     "metadata": {
      "needs_background": "light"
     },
     "output_type": "display_data"
    }
   ],
   "source": [
    "sns.boxplot(y='year', data=data)"
   ]
  },
  {
   "cell_type": "markdown",
   "id": "e68375bb",
   "metadata": {},
   "source": [
    "Here is not outliers in any column."
   ]
  },
  {
   "cell_type": "code",
   "execution_count": 34,
   "id": "34dc02e2",
   "metadata": {},
   "outputs": [],
   "source": [
    "# Function to encode varibles\n",
    "def encoding_categorical_feature(*args):\n",
    "    for feature in args:\n",
    "        encoded = pd.get_dummies(categorical_data[feature], drop_first=True)\n",
    "        return pd.concat([data, encoded], axis=1)"
   ]
  },
  {
   "cell_type": "code",
   "execution_count": 35,
   "id": "41449671",
   "metadata": {},
   "outputs": [],
   "source": [
    "data = encoding_categorical_feature(['fuel', 'seller_type', 'transmission', 'owner'])"
   ]
  },
  {
   "cell_type": "code",
   "execution_count": 36,
   "id": "9fb174eb",
   "metadata": {},
   "outputs": [
    {
     "data": {
      "text/html": [
       "<div>\n",
       "<style scoped>\n",
       "    .dataframe tbody tr th:only-of-type {\n",
       "        vertical-align: middle;\n",
       "    }\n",
       "\n",
       "    .dataframe tbody tr th {\n",
       "        vertical-align: top;\n",
       "    }\n",
       "\n",
       "    .dataframe thead th {\n",
       "        text-align: right;\n",
       "    }\n",
       "</style>\n",
       "<table border=\"1\" class=\"dataframe\">\n",
       "  <thead>\n",
       "    <tr style=\"text-align: right;\">\n",
       "      <th></th>\n",
       "      <th>name</th>\n",
       "      <th>year</th>\n",
       "      <th>selling_price</th>\n",
       "      <th>km_driven</th>\n",
       "      <th>fuel</th>\n",
       "      <th>seller_type</th>\n",
       "      <th>transmission</th>\n",
       "      <th>owner</th>\n",
       "      <th>fuel_Diesel</th>\n",
       "      <th>fuel_Electric</th>\n",
       "      <th>fuel_LPG</th>\n",
       "      <th>fuel_Petrol</th>\n",
       "      <th>seller_type_Individual</th>\n",
       "      <th>seller_type_Trustmark Dealer</th>\n",
       "      <th>transmission_Manual</th>\n",
       "      <th>owner_Fourth &amp; Above Owner</th>\n",
       "      <th>owner_Second Owner</th>\n",
       "      <th>owner_Test Drive Car</th>\n",
       "      <th>owner_Third Owner</th>\n",
       "    </tr>\n",
       "  </thead>\n",
       "  <tbody>\n",
       "    <tr>\n",
       "      <th>0</th>\n",
       "      <td>Maruti 800 AC</td>\n",
       "      <td>2007.0</td>\n",
       "      <td>11.002100</td>\n",
       "      <td>70000</td>\n",
       "      <td>Petrol</td>\n",
       "      <td>Individual</td>\n",
       "      <td>Manual</td>\n",
       "      <td>First Owner</td>\n",
       "      <td>0</td>\n",
       "      <td>0</td>\n",
       "      <td>0</td>\n",
       "      <td>1</td>\n",
       "      <td>1</td>\n",
       "      <td>0</td>\n",
       "      <td>1</td>\n",
       "      <td>0</td>\n",
       "      <td>0</td>\n",
       "      <td>0</td>\n",
       "      <td>0</td>\n",
       "    </tr>\n",
       "    <tr>\n",
       "      <th>1</th>\n",
       "      <td>Maruti Wagon R LXI Minor</td>\n",
       "      <td>2007.0</td>\n",
       "      <td>11.813030</td>\n",
       "      <td>50000</td>\n",
       "      <td>Petrol</td>\n",
       "      <td>Individual</td>\n",
       "      <td>Manual</td>\n",
       "      <td>First Owner</td>\n",
       "      <td>0</td>\n",
       "      <td>0</td>\n",
       "      <td>0</td>\n",
       "      <td>1</td>\n",
       "      <td>1</td>\n",
       "      <td>0</td>\n",
       "      <td>1</td>\n",
       "      <td>0</td>\n",
       "      <td>0</td>\n",
       "      <td>0</td>\n",
       "      <td>0</td>\n",
       "    </tr>\n",
       "    <tr>\n",
       "      <th>2</th>\n",
       "      <td>Hyundai Verna 1.6 SX</td>\n",
       "      <td>2012.0</td>\n",
       "      <td>13.304685</td>\n",
       "      <td>100000</td>\n",
       "      <td>Diesel</td>\n",
       "      <td>Individual</td>\n",
       "      <td>Manual</td>\n",
       "      <td>First Owner</td>\n",
       "      <td>1</td>\n",
       "      <td>0</td>\n",
       "      <td>0</td>\n",
       "      <td>0</td>\n",
       "      <td>1</td>\n",
       "      <td>0</td>\n",
       "      <td>1</td>\n",
       "      <td>0</td>\n",
       "      <td>0</td>\n",
       "      <td>0</td>\n",
       "      <td>0</td>\n",
       "    </tr>\n",
       "    <tr>\n",
       "      <th>3</th>\n",
       "      <td>Datsun RediGO T Option</td>\n",
       "      <td>2017.0</td>\n",
       "      <td>12.429216</td>\n",
       "      <td>46000</td>\n",
       "      <td>Petrol</td>\n",
       "      <td>Individual</td>\n",
       "      <td>Manual</td>\n",
       "      <td>First Owner</td>\n",
       "      <td>0</td>\n",
       "      <td>0</td>\n",
       "      <td>0</td>\n",
       "      <td>1</td>\n",
       "      <td>1</td>\n",
       "      <td>0</td>\n",
       "      <td>1</td>\n",
       "      <td>0</td>\n",
       "      <td>0</td>\n",
       "      <td>0</td>\n",
       "      <td>0</td>\n",
       "    </tr>\n",
       "    <tr>\n",
       "      <th>4</th>\n",
       "      <td>Honda Amaze VX i-DTEC</td>\n",
       "      <td>2014.0</td>\n",
       "      <td>13.017003</td>\n",
       "      <td>141000</td>\n",
       "      <td>Diesel</td>\n",
       "      <td>Individual</td>\n",
       "      <td>Manual</td>\n",
       "      <td>Second Owner</td>\n",
       "      <td>1</td>\n",
       "      <td>0</td>\n",
       "      <td>0</td>\n",
       "      <td>0</td>\n",
       "      <td>1</td>\n",
       "      <td>0</td>\n",
       "      <td>1</td>\n",
       "      <td>0</td>\n",
       "      <td>1</td>\n",
       "      <td>0</td>\n",
       "      <td>0</td>\n",
       "    </tr>\n",
       "  </tbody>\n",
       "</table>\n",
       "</div>"
      ],
      "text/plain": [
       "                       name    year  selling_price  km_driven    fuel  \\\n",
       "0             Maruti 800 AC  2007.0      11.002100      70000  Petrol   \n",
       "1  Maruti Wagon R LXI Minor  2007.0      11.813030      50000  Petrol   \n",
       "2      Hyundai Verna 1.6 SX  2012.0      13.304685     100000  Diesel   \n",
       "3    Datsun RediGO T Option  2017.0      12.429216      46000  Petrol   \n",
       "4     Honda Amaze VX i-DTEC  2014.0      13.017003     141000  Diesel   \n",
       "\n",
       "  seller_type transmission         owner  fuel_Diesel  fuel_Electric  \\\n",
       "0  Individual       Manual   First Owner            0              0   \n",
       "1  Individual       Manual   First Owner            0              0   \n",
       "2  Individual       Manual   First Owner            1              0   \n",
       "3  Individual       Manual   First Owner            0              0   \n",
       "4  Individual       Manual  Second Owner            1              0   \n",
       "\n",
       "   fuel_LPG  fuel_Petrol  seller_type_Individual  \\\n",
       "0         0            1                       1   \n",
       "1         0            1                       1   \n",
       "2         0            0                       1   \n",
       "3         0            1                       1   \n",
       "4         0            0                       1   \n",
       "\n",
       "   seller_type_Trustmark Dealer  transmission_Manual  \\\n",
       "0                             0                    1   \n",
       "1                             0                    1   \n",
       "2                             0                    1   \n",
       "3                             0                    1   \n",
       "4                             0                    1   \n",
       "\n",
       "   owner_Fourth & Above Owner  owner_Second Owner  owner_Test Drive Car  \\\n",
       "0                           0                   0                     0   \n",
       "1                           0                   0                     0   \n",
       "2                           0                   0                     0   \n",
       "3                           0                   0                     0   \n",
       "4                           0                   1                     0   \n",
       "\n",
       "   owner_Third Owner  \n",
       "0                  0  \n",
       "1                  0  \n",
       "2                  0  \n",
       "3                  0  \n",
       "4                  0  "
      ]
     },
     "execution_count": 36,
     "metadata": {},
     "output_type": "execute_result"
    }
   ],
   "source": [
    "# Encoded Data\n",
    "data.head()"
   ]
  },
  {
   "cell_type": "code",
   "execution_count": 37,
   "id": "05a79aac",
   "metadata": {},
   "outputs": [],
   "source": [
    "# Drop the unnecessary columns\n",
    "data.drop(columns=['name','fuel', 'seller_type', 'transmission', 'owner'], inplace=True)"
   ]
  },
  {
   "cell_type": "code",
   "execution_count": 38,
   "id": "39f5b593",
   "metadata": {},
   "outputs": [],
   "source": [
    "# Separate the other features and the target fetaures\n",
    "X = data.drop(columns=['selling_price'])\n",
    "y = data['selling_price']"
   ]
  },
  {
   "cell_type": "code",
   "execution_count": 39,
   "id": "c47fe707",
   "metadata": {},
   "outputs": [
    {
     "data": {
      "text/html": [
       "<div>\n",
       "<style scoped>\n",
       "    .dataframe tbody tr th:only-of-type {\n",
       "        vertical-align: middle;\n",
       "    }\n",
       "\n",
       "    .dataframe tbody tr th {\n",
       "        vertical-align: top;\n",
       "    }\n",
       "\n",
       "    .dataframe thead th {\n",
       "        text-align: right;\n",
       "    }\n",
       "</style>\n",
       "<table border=\"1\" class=\"dataframe\">\n",
       "  <thead>\n",
       "    <tr style=\"text-align: right;\">\n",
       "      <th></th>\n",
       "      <th>year</th>\n",
       "      <th>km_driven</th>\n",
       "      <th>fuel_Diesel</th>\n",
       "      <th>fuel_Electric</th>\n",
       "      <th>fuel_LPG</th>\n",
       "      <th>fuel_Petrol</th>\n",
       "      <th>seller_type_Individual</th>\n",
       "      <th>seller_type_Trustmark Dealer</th>\n",
       "      <th>transmission_Manual</th>\n",
       "      <th>owner_Fourth &amp; Above Owner</th>\n",
       "      <th>owner_Second Owner</th>\n",
       "      <th>owner_Test Drive Car</th>\n",
       "      <th>owner_Third Owner</th>\n",
       "    </tr>\n",
       "  </thead>\n",
       "  <tbody>\n",
       "    <tr>\n",
       "      <th>0</th>\n",
       "      <td>2007.0</td>\n",
       "      <td>70000</td>\n",
       "      <td>0</td>\n",
       "      <td>0</td>\n",
       "      <td>0</td>\n",
       "      <td>1</td>\n",
       "      <td>1</td>\n",
       "      <td>0</td>\n",
       "      <td>1</td>\n",
       "      <td>0</td>\n",
       "      <td>0</td>\n",
       "      <td>0</td>\n",
       "      <td>0</td>\n",
       "    </tr>\n",
       "    <tr>\n",
       "      <th>1</th>\n",
       "      <td>2007.0</td>\n",
       "      <td>50000</td>\n",
       "      <td>0</td>\n",
       "      <td>0</td>\n",
       "      <td>0</td>\n",
       "      <td>1</td>\n",
       "      <td>1</td>\n",
       "      <td>0</td>\n",
       "      <td>1</td>\n",
       "      <td>0</td>\n",
       "      <td>0</td>\n",
       "      <td>0</td>\n",
       "      <td>0</td>\n",
       "    </tr>\n",
       "    <tr>\n",
       "      <th>2</th>\n",
       "      <td>2012.0</td>\n",
       "      <td>100000</td>\n",
       "      <td>1</td>\n",
       "      <td>0</td>\n",
       "      <td>0</td>\n",
       "      <td>0</td>\n",
       "      <td>1</td>\n",
       "      <td>0</td>\n",
       "      <td>1</td>\n",
       "      <td>0</td>\n",
       "      <td>0</td>\n",
       "      <td>0</td>\n",
       "      <td>0</td>\n",
       "    </tr>\n",
       "    <tr>\n",
       "      <th>3</th>\n",
       "      <td>2017.0</td>\n",
       "      <td>46000</td>\n",
       "      <td>0</td>\n",
       "      <td>0</td>\n",
       "      <td>0</td>\n",
       "      <td>1</td>\n",
       "      <td>1</td>\n",
       "      <td>0</td>\n",
       "      <td>1</td>\n",
       "      <td>0</td>\n",
       "      <td>0</td>\n",
       "      <td>0</td>\n",
       "      <td>0</td>\n",
       "    </tr>\n",
       "    <tr>\n",
       "      <th>4</th>\n",
       "      <td>2014.0</td>\n",
       "      <td>141000</td>\n",
       "      <td>1</td>\n",
       "      <td>0</td>\n",
       "      <td>0</td>\n",
       "      <td>0</td>\n",
       "      <td>1</td>\n",
       "      <td>0</td>\n",
       "      <td>1</td>\n",
       "      <td>0</td>\n",
       "      <td>1</td>\n",
       "      <td>0</td>\n",
       "      <td>0</td>\n",
       "    </tr>\n",
       "  </tbody>\n",
       "</table>\n",
       "</div>"
      ],
      "text/plain": [
       "     year  km_driven  fuel_Diesel  fuel_Electric  fuel_LPG  fuel_Petrol  \\\n",
       "0  2007.0      70000            0              0         0            1   \n",
       "1  2007.0      50000            0              0         0            1   \n",
       "2  2012.0     100000            1              0         0            0   \n",
       "3  2017.0      46000            0              0         0            1   \n",
       "4  2014.0     141000            1              0         0            0   \n",
       "\n",
       "   seller_type_Individual  seller_type_Trustmark Dealer  transmission_Manual  \\\n",
       "0                       1                             0                    1   \n",
       "1                       1                             0                    1   \n",
       "2                       1                             0                    1   \n",
       "3                       1                             0                    1   \n",
       "4                       1                             0                    1   \n",
       "\n",
       "   owner_Fourth & Above Owner  owner_Second Owner  owner_Test Drive Car  \\\n",
       "0                           0                   0                     0   \n",
       "1                           0                   0                     0   \n",
       "2                           0                   0                     0   \n",
       "3                           0                   0                     0   \n",
       "4                           0                   1                     0   \n",
       "\n",
       "   owner_Third Owner  \n",
       "0                  0  \n",
       "1                  0  \n",
       "2                  0  \n",
       "3                  0  \n",
       "4                  0  "
      ]
     },
     "execution_count": 39,
     "metadata": {},
     "output_type": "execute_result"
    }
   ],
   "source": [
    "X.head()"
   ]
  },
  {
   "cell_type": "code",
   "execution_count": 40,
   "id": "7ecef955",
   "metadata": {},
   "outputs": [
    {
     "data": {
      "text/plain": [
       "0    11.002100\n",
       "1    11.813030\n",
       "2    13.304685\n",
       "3    12.429216\n",
       "4    13.017003\n",
       "Name: selling_price, dtype: float64"
      ]
     },
     "execution_count": 40,
     "metadata": {},
     "output_type": "execute_result"
    }
   ],
   "source": [
    "y.head()"
   ]
  },
  {
   "cell_type": "code",
   "execution_count": 41,
   "id": "debcf60d",
   "metadata": {},
   "outputs": [],
   "source": [
    "# Scale the data to the same range\n",
    "scaler = StandardScaler()"
   ]
  },
  {
   "cell_type": "code",
   "execution_count": 42,
   "id": "0dc42ecb",
   "metadata": {},
   "outputs": [],
   "source": [
    "X_scaled = scaler.fit_transform(X)"
   ]
  },
  {
   "cell_type": "code",
   "execution_count": 43,
   "id": "c1d83466",
   "metadata": {},
   "outputs": [
    {
     "data": {
      "text/plain": [
       "array([[-1.53404032,  0.13277834, -0.99219635, ..., -0.58480026,\n",
       "        -0.06270928, -0.27444872],\n",
       "       [-1.53404032, -0.36936404, -0.99219635, ..., -0.58480026,\n",
       "        -0.06270928, -0.27444872],\n",
       "       [-0.28888238,  0.88599191,  1.00786503, ..., -0.58480026,\n",
       "        -0.06270928, -0.27444872],\n",
       "       ...,\n",
       "       [-1.03597715,  0.45917089, -0.99219635, ...,  1.70998557,\n",
       "        -0.06270928, -0.27444872],\n",
       "       [ 0.70724397,  0.63492072,  1.00786503, ..., -0.58480026,\n",
       "        -0.06270928, -0.27444872],\n",
       "       [ 0.70724397, -0.62043523, -0.99219635, ..., -0.58480026,\n",
       "        -0.06270928, -0.27444872]])"
      ]
     },
     "execution_count": 43,
     "metadata": {},
     "output_type": "execute_result"
    }
   ],
   "source": [
    "X_scaled"
   ]
  },
  {
   "cell_type": "markdown",
   "id": "56f1d31e",
   "metadata": {},
   "source": [
    "## Step 5: Split the data into train and test set\n",
    "- Now our data is ready to feed to the program. But here we'll split the data into train and test dataset so that after training the model we can test the model on the test dataset and find out how accurate are its predictions.\n",
    "- Here we are splitting the data so that the training dataset contains 80% of the data and the test dataset contains 20% of the total data.\n",
    "- Here we are using the train_test_split method from the sklearn library. We'll train our model on x_train and y_train, test it on x_test and y_test.\n",
    "\n",
    "- test_size: Here we specify the size we want for our test dataset.\n",
    "\n",
    "- random_state: When we use a random number generator for number or sequence generation, we give a starting number (AKA seed). When we provide the same seed, every time it’ll generate the same sequence as the first one. That’s why to keep the same random values every time, we give seed as random_state in train_test_split()."
   ]
  },
  {
   "cell_type": "code",
   "execution_count": 44,
   "id": "a1f23223",
   "metadata": {},
   "outputs": [],
   "source": [
    "# Splitting the dataset into testing and training data\n",
    "X_train, X_test, y_train, y_test = train_test_split(X_scaled, y, test_size=0.15, random_state=232)"
   ]
  },
  {
   "cell_type": "code",
   "execution_count": 45,
   "id": "aafe9826",
   "metadata": {},
   "outputs": [
    {
     "name": "stdout",
     "output_type": "stream",
     "text": [
      "(3689, 13) (651, 13) (3689,) (651,)\n"
     ]
    }
   ],
   "source": [
    "#display the shapes of the x and y train and test dataset.\n",
    "print(X_train.shape, X_test.shape, y_train.shape, y_test.shape)"
   ]
  },
  {
   "cell_type": "markdown",
   "id": "24542fd5",
   "metadata": {},
   "source": [
    "## Step 6: Train the Model using Linear Regression "
   ]
  },
  {
   "cell_type": "code",
   "execution_count": 46,
   "id": "156c68ab",
   "metadata": {},
   "outputs": [],
   "source": [
    "# Creating the instance of the Linear regression\n",
    "lassocv = LassoCV(cv=10, max_iter=200000, normalize=True)\n",
    "lassocv.fit(X_train, y_train)\n",
    "alpha = lassocv.alpha_\n",
    "lasso = Lasso(alpha=alpha)"
   ]
  },
  {
   "cell_type": "code",
   "execution_count": 47,
   "id": "2a423661",
   "metadata": {},
   "outputs": [
    {
     "name": "stdout",
     "output_type": "stream",
     "text": [
      "Training is done successfully..\n"
     ]
    }
   ],
   "source": [
    "# Train the model\n",
    "lasso.fit(X_train, y_train)\n",
    "print(\"Training is done successfully..\")"
   ]
  },
  {
   "cell_type": "code",
   "execution_count": 48,
   "id": "0d30574c",
   "metadata": {},
   "outputs": [
    {
     "name": "stdout",
     "output_type": "stream",
     "text": [
      "The accuracy score of the model is: 72.0%\n"
     ]
    }
   ],
   "source": [
    "# Tesing the accuracy score of the model\n",
    "print(f\"The accuracy score of the model is: {round(lasso.score(X_test, y_test), 2)*100}%\")"
   ]
  },
  {
   "cell_type": "code",
   "execution_count": 49,
   "id": "078f81e1",
   "metadata": {},
   "outputs": [
    {
     "data": {
      "text/plain": [
       "array([11.55198025, 13.61916553, 13.15330675, 13.13451519, 12.97089702,\n",
       "       12.37090893, 13.23426428, 12.99023978, 13.27370999, 12.32218056,\n",
       "       11.7786274 , 11.50835501, 12.41946644, 13.25491843, 12.58826543,\n",
       "       12.03351223, 12.87502033, 13.65052679, 12.7152024 , 12.48442601,\n",
       "       13.50394608, 13.63031878, 12.42488525, 13.3453529 , 11.39063175,\n",
       "       11.60454734, 14.52245072, 12.426535  , 12.86795176, 12.0293814 ,\n",
       "       12.87722588, 12.66154767, 11.20334466, 12.89273675, 11.26310545,\n",
       "       11.93481609, 13.50394608, 12.20956042, 13.49774983, 12.39982474,\n",
       "       13.13232585, 12.90306382, 12.52392548, 14.03885334, 12.87208259,\n",
       "       12.61203796, 12.44354245, 12.15166942, 13.06669631, 12.87887821,\n",
       "       12.0169889 , 11.84737874, 12.20956042, 12.88755296, 13.04451529,\n",
       "       13.6428798 , 11.43143687, 11.78654999, 12.74033982, 12.88548754,\n",
       "       13.6382384 , 11.14784065, 12.77026809, 12.23641082, 11.31621742,\n",
       "       12.76613726, 12.90409032, 13.09313287, 12.36402277, 13.32400884,\n",
       "       11.63676781, 13.67654773, 12.52537127, 12.47924222, 13.37839955,\n",
       "       13.79457615, 13.61710012, 11.73673054, 12.44208499, 12.84660769,\n",
       "       11.2630198 , 13.79850043, 13.36065798, 12.5026517 , 13.11491399,\n",
       "       14.13486815, 12.76099397, 12.50884795, 12.88548754, 13.24252594,\n",
       "       12.63751285, 13.25491843, 12.52743669, 11.92141114, 12.64885239,\n",
       "       12.76613726, 13.37426872, 13.64977374, 13.56760808, 12.71693033,\n",
       "       12.20338442, 11.82186487, 13.21292021, 11.79361856, 13.63031878,\n",
       "       11.98637072, 11.32447908, 12.89273675, 13.77754803, 12.58826543,\n",
       "       12.97284414, 11.79894249, 11.67133054, 13.03986913, 13.00896866,\n",
       "       12.53881672, 12.69999393, 12.89168379, 12.5334928 , 13.78321636,\n",
       "       12.86795176, 12.2503404 , 13.27472245, 13.20465855, 13.06669631,\n",
       "       13.13038436, 13.53389212, 11.9224236 , 13.32813967, 12.72312658,\n",
       "       12.23021458, 13.64326066, 12.42033876, 12.44208499, 13.50878411,\n",
       "       12.5913838 , 11.9491191 , 13.13143732, 13.38686775, 12.38956407,\n",
       "       12.01081291, 12.39569391, 12.14900462, 12.64164368, 11.42730604,\n",
       "       12.75273231, 12.71899575, 12.50678254, 13.79088359, 13.74602236,\n",
       "       12.48821405, 11.60871847, 11.93215615, 13.03500942, 12.60775923,\n",
       "       13.13244978, 13.25384442, 13.37839955, 13.79837361, 11.27541229,\n",
       "       12.95356549, 11.31327968, 13.06465411, 12.04092831, 13.11360073,\n",
       "       13.01931681, 13.13556815, 11.78241916, 12.9110359 , 12.71899575,\n",
       "       11.62520149, 11.62107066, 11.62933232, 12.98090002, 13.1543597 ,\n",
       "       13.06465411, 12.56659882, 13.3453529 , 12.95796482, 13.10334767,\n",
       "       11.78861541, 12.46891515, 12.89581462, 13.62536178, 12.9692837 ,\n",
       "       12.76047802, 12.91965447, 12.64059073, 13.73637132, 13.97985745,\n",
       "       14.27135766, 12.88548754, 13.26111468, 12.62925119, 12.46377186,\n",
       "       12.26851605, 11.2643447 , 14.13941207, 12.89626199, 11.66600661,\n",
       "       12.64885239, 11.43262997, 12.3413032 , 13.52273764, 13.87872308,\n",
       "       13.39306027, 13.12317566, 13.38500888, 13.60883846, 12.24159461,\n",
       "       12.89567448, 12.89686758, 12.86361515, 12.54588529, 12.99969454,\n",
       "       13.13928052, 14.14484039, 12.01370771, 11.68964733, 13.000707  ,\n",
       "       13.00814249, 12.66796326, 13.39884344, 13.15813941, 14.13899319,\n",
       "       13.79507432, 13.37426872, 13.1025215 , 12.16718028, 13.77424378,\n",
       "       12.89686758, 12.91268038, 13.37013789, 11.56272041, 12.40478174,\n",
       "       11.43969854, 12.52330586, 12.715278  , 13.01531768, 11.86903255,\n",
       "       12.76613726, 12.04177389, 12.23746378, 12.71486492, 12.42894338,\n",
       "       12.31435139, 11.98325234, 12.75810239, 12.39055062, 12.78164812,\n",
       "       11.73215928, 12.32164262, 11.90176945, 13.00896866, 14.50923579,\n",
       "       13.03436376, 13.36187623, 13.493619  , 13.13083875, 12.5211003 ,\n",
       "       12.76820267, 13.23916798, 13.38459579, 13.61710012, 14.35946063,\n",
       "       12.33508578, 11.75508167, 12.31299277, 13.79507432, 14.03160414,\n",
       "       11.19921383, 13.63837017, 12.98730205, 13.11491399, 11.74455177,\n",
       "       12.59551463, 14.5626996 , 12.23750408, 12.25602854, 12.88961837,\n",
       "       12.60790712, 13.78321636, 12.10985183, 13.40049577, 12.42488525,\n",
       "       12.71899575, 12.7105073 , 11.77953619, 11.61693983, 12.60426042,\n",
       "       13.12544389, 11.63759398, 13.78321636, 12.13633919, 14.27478342,\n",
       "       12.15286251, 12.89980531, 12.74033982, 12.57072965, 11.58664246,\n",
       "       12.71505081, 14.28333707, 11.51411286, 12.62068873, 12.60756433,\n",
       "       11.67199973, 13.37881263, 13.20597207, 12.90701991, 13.13608491,\n",
       "       12.87722588, 13.25386548, 11.4367608 , 11.63552857, 13.20597207,\n",
       "       11.91416194, 12.88548754, 12.00495945, 11.43262997, 12.20956042,\n",
       "       12.77688031, 12.5334928 , 13.15544445, 13.23426428, 11.4367608 ,\n",
       "       11.67076627, 14.38843971, 12.34956486, 13.11491399, 11.91416194,\n",
       "       11.24534288, 13.63410757, 13.10665233, 13.79457615, 12.15699334,\n",
       "       12.87208259, 13.13143732, 14.5626996 , 12.59142411, 12.71899575,\n",
       "       12.95356549, 12.70660326, 12.26562126, 11.70917007, 13.78782719,\n",
       "       11.67013745, 13.05359816, 12.95356549, 13.02404247, 13.13286286,\n",
       "       12.42488525, 12.47203352, 12.36402277, 11.79114006, 13.75237138,\n",
       "       13.4717466 , 13.08530827, 13.01227332, 12.76820267, 13.00483783,\n",
       "       13.05305009, 13.37839955, 12.00955341, 13.493619  , 13.74884289,\n",
       "       13.88313522, 12.83008437, 12.38198816, 11.75285374, 12.55169334,\n",
       "       12.62925119, 12.64990535, 12.42488525, 12.23641082, 13.69617177,\n",
       "       12.46377186, 12.47304598, 13.19226606, 13.2507876 , 13.00483783,\n",
       "       12.17560717, 12.99969454, 12.91121683, 11.51328298, 13.2554765 ,\n",
       "       12.11398266, 13.79593642, 13.37013789, 11.75508167, 12.34543403,\n",
       "       11.99151401, 13.7895989 , 11.73412405, 12.64678697, 12.08607931,\n",
       "       13.00960853, 11.62597317, 13.76998118, 11.45658879, 11.56317965,\n",
       "       11.94575907, 12.58312214, 13.01103408, 12.75810239, 13.62742719,\n",
       "       12.46790269, 11.95601469, 12.46211952, 13.20597207, 12.27120034,\n",
       "       12.60377629, 11.50589151, 12.83008437, 11.21160632, 12.91276755,\n",
       "       13.62088891, 12.75273231, 13.12666661, 12.86723788, 13.19226606,\n",
       "       11.09642717, 13.37426872, 12.70247243, 13.1288059 , 12.80572414,\n",
       "       13.63155803, 12.89154365, 12.87915116, 12.26071287, 13.22345011,\n",
       "       13.91391444, 13.63637953, 11.74042094, 12.41414251, 12.64885239,\n",
       "       11.25475814, 13.13143732, 13.24252594, 12.02111973, 12.78625987,\n",
       "       12.91924189, 11.38237009, 11.32154135, 14.03885334, 11.53542323,\n",
       "       12.29167385, 13.10665233, 12.34442157, 12.31124542, 12.31435139,\n",
       "       12.97490956, 11.40302424, 13.25863618, 14.5626996 , 12.11912595,\n",
       "       11.91709968, 13.63837017, 12.60756433, 13.02115089, 11.97912151,\n",
       "       13.01309949, 12.4627189 , 11.81360321, 12.76944192, 13.09770076,\n",
       "       13.00843083, 13.05305009, 13.19639689, 13.56115944, 13.00676311,\n",
       "       11.57144131, 12.71490522, 12.20806965, 13.0846332 , 11.54665633,\n",
       "       12.94943466, 12.64045059, 12.48029518, 13.18240486, 12.17145125,\n",
       "       13.30600151, 13.51220774, 12.87991092, 12.6614477 , 12.04177389,\n",
       "       12.29699778, 13.15000208, 12.50370466, 12.14955785, 11.91314948,\n",
       "       12.77026809, 12.64265614, 12.92102921, 11.54136402, 13.61710012,\n",
       "       11.74661719, 12.52330586, 11.32447908, 13.36724631, 11.98637072,\n",
       "       11.53715542, 12.14136259, 11.67546137, 13.08819985, 13.7447091 ,\n",
       "       13.0846332 , 13.24665677, 13.50807691, 11.92118435, 12.165255  ,\n",
       "       12.84247686, 13.15002605, 12.78164812, 13.7968481 , 12.87276459,\n",
       "       12.42529575, 12.46891515, 12.64017764, 12.76820267, 13.36444602,\n",
       "       12.941173  , 13.0207378 , 11.91622736, 13.13327594, 13.0846332 ,\n",
       "       13.12955819, 11.62520149, 13.62329636, 11.98325234, 12.77751729,\n",
       "       13.0846332 , 11.99771025, 13.15679276, 12.75686314, 14.2649586 ,\n",
       "       12.87722588, 11.42730604, 13.79457615, 13.04366392, 12.48359984,\n",
       "       12.88536362, 12.40602099, 12.87722588, 13.00483783, 13.35239632,\n",
       "       13.493619  , 12.796355  , 12.60113256, 12.98193197, 13.89581109,\n",
       "       12.84348932, 12.04590472, 12.74860148, 13.65254677, 13.79088359,\n",
       "       12.1627765 , 13.14940271, 11.53049994, 12.76944192, 13.26007825,\n",
       "       13.01227332, 12.8574643 , 13.08117743, 12.64060852, 13.75239541,\n",
       "       11.7741575 , 12.00955341, 12.39282334, 13.13556815, 12.65504863,\n",
       "       14.1045361 , 12.35369569, 12.60377629, 12.87641624, 13.49981525,\n",
       "       13.11078316, 12.889019  , 12.31455009, 12.37917059, 13.12648032,\n",
       "       13.95740941, 12.88447508, 13.79348229, 13.14052514, 13.64332717,\n",
       "       11.48932788, 12.22195291, 12.27000724, 11.98325234, 12.35474865,\n",
       "       13.91440188, 12.87309505, 12.07486845, 13.49981525, 11.10881966,\n",
       "       12.66796326, 14.00471491, 12.79335571, 13.80608848, 11.7741575 ,\n",
       "       12.8342152 , 13.19020064, 13.00690324, 13.12005728, 14.52245072,\n",
       "       13.00277241, 11.1927363 , 12.47717681, 12.34956486, 13.52810565,\n",
       "       12.7723335 , 13.56760808, 11.63423483, 12.73811401, 12.99143288,\n",
       "       13.02328643, 12.65422247, 13.13143732, 11.6527418 , 13.06669631,\n",
       "       12.74860148, 11.14958448, 11.66600661, 14.1311504 , 12.42934035,\n",
       "       12.40588085, 12.7056953 , 12.58312214, 12.56143528, 13.01791635,\n",
       "       11.58664246, 12.17351666, 12.76778959, 13.51386007, 14.38658084,\n",
       "       13.25384442, 12.64885239, 12.7763242 , 13.27571963, 12.99969454,\n",
       "       12.59859251, 13.62123095, 12.38454067, 13.06713261, 11.58664246,\n",
       "       13.50601149, 12.6096095 , 13.62123095, 12.75374477, 12.45893413,\n",
       "       13.51654139])"
      ]
     },
     "execution_count": 49,
     "metadata": {},
     "output_type": "execute_result"
    }
   ],
   "source": [
    "# make prediction on test data\n",
    "y_pred = lasso.predict(X_test)\n",
    "y_pred"
   ]
  },
  {
   "cell_type": "code",
   "execution_count": 50,
   "id": "b3839c21",
   "metadata": {},
   "outputs": [],
   "source": [
    "# Saving the result\n",
    "result = pd.DataFrame({'y_test':np.array(y_test).reshape(len(y_test)), 'y_pred':y_pred}, index=range(len(y_pred)))\n",
    "result.y_pred = result.y_pred.apply(lambda x: round(x**2,1))\n",
    "result.y_test = result.y_test.apply(lambda x: round(x**2,1))\n",
    "result.to_csv('Car Price prediction model result.csv')"
   ]
  },
  {
   "cell_type": "markdown",
   "id": "6a4af1dc",
   "metadata": {},
   "source": [
    "## Step 7: Save the model in a pickle file\n",
    "As model is giving very good accuracy we'll go with it and save it to pickle file. We save our model to pickle files so that when we want to perform predictions on unseen data, we don't have to train our model again. Any object in python can be pickled so that it can be saved on disk. What pickle does is that it “serializes” the object first before writing it to file. Pickling is a way to convert a python object (list, dict, etc.) into a character stream.`"
   ]
  },
  {
   "cell_type": "code",
   "execution_count": 52,
   "id": "e0cda5dc",
   "metadata": {},
   "outputs": [],
   "source": [
    "# Save the model to disk\n",
    "pickle.dump(lasso, open('Car Price Prediction model.pickle', 'wb'))"
   ]
  },
  {
   "cell_type": "markdown",
   "id": "bcff0c91",
   "metadata": {},
   "source": [
    "## Summary\n",
    "Now our model is ready and whenever we need to make prediction, we just load the model using pickle and make the predictions."
   ]
  }
 ],
 "metadata": {
  "kernelspec": {
   "display_name": "Python 3 (ipykernel)",
   "language": "python",
   "name": "python3"
  },
  "language_info": {
   "codemirror_mode": {
    "name": "ipython",
    "version": 3
   },
   "file_extension": ".py",
   "mimetype": "text/x-python",
   "name": "python",
   "nbconvert_exporter": "python",
   "pygments_lexer": "ipython3",
   "version": "3.9.7"
  }
 },
 "nbformat": 4,
 "nbformat_minor": 5
}
